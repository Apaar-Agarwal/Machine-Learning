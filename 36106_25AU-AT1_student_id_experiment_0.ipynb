{
  "cells": [
    {
      "cell_type": "markdown",
      "metadata": {
        "id": "uQ6wc2HE0pke"
      },
      "source": [
        "# **Experiment Notebook**\n",
        "\n"
      ]
    },
    {
      "cell_type": "markdown",
      "metadata": {
        "id": "KFVpE17Ahezu"
      },
      "source": [
        "---\n",
        "## 0. Setup Environment"
      ]
    },
    {
      "cell_type": "markdown",
      "source": [
        "### 0.a Install Mandatory Packages\n",
        "\n",
        "> Do not modify this code before running it"
      ],
      "metadata": {
        "id": "kWUmi7fakv5O"
      }
    },
    {
      "cell_type": "code",
      "source": [
        "# Do not modify this code\n",
        "\n",
        "import os\n",
        "import sys\n",
        "from pathlib import Path\n",
        "\n",
        "COURSE = \"36106\"\n",
        "ASSIGNMENT = \"AT1\"\n",
        "DATA = \"data\"\n",
        "\n",
        "asgmt_path = f\"{COURSE}/assignment/{ASSIGNMENT}\"\n",
        "root_path = \"./\"\n",
        "\n",
        "print(\"###### Install required Python packages ######\")\n",
        "! pip install -r https://raw.githubusercontent.com/aso-uts/labs_datasets/main/36106-mlaa/requirements.txt\n",
        "\n",
        "if os.getenv(\"COLAB_RELEASE_TAG\"):\n",
        "\n",
        "    from google.colab import drive\n",
        "    from pathlib import Path\n",
        "\n",
        "    print(\"\\n###### Connect to personal Google Drive ######\")\n",
        "    gdrive_path = \"/content/gdrive\"\n",
        "    drive.mount(gdrive_path)\n",
        "    root_path = f\"{gdrive_path}/MyDrive/\"\n",
        "\n",
        "print(\"\\n###### Setting up folders ######\")\n",
        "folder_path = Path(f\"{root_path}/{asgmt_path}/\") / DATA\n",
        "folder_path.mkdir(parents=True, exist_ok=True)\n",
        "print(f\"\\nYou can now save your data files in: {folder_path}\")\n",
        "\n",
        "if os.getenv(\"COLAB_RELEASE_TAG\"):\n",
        "    %cd {folder_path}\n"
      ],
      "metadata": {
        "colab": {
          "base_uri": "https://localhost:8080/"
        },
        "id": "S8jFaNXqvV5W",
        "outputId": "e72606fb-bba9-4521-d148-c1e4ffaf5ea7"
      },
      "execution_count": null,
      "outputs": [
        {
          "output_type": "stream",
          "name": "stdout",
          "text": [
            "###### Install required Python packages ######\n",
            "Requirement already satisfied: pandas==2.2.2 in /usr/local/lib/python3.11/dist-packages (from -r https://raw.githubusercontent.com/aso-uts/labs_datasets/main/36106-mlaa/requirements.txt (line 1)) (2.2.2)\n",
            "Requirement already satisfied: scikit-learn==1.6.1 in /usr/local/lib/python3.11/dist-packages (from -r https://raw.githubusercontent.com/aso-uts/labs_datasets/main/36106-mlaa/requirements.txt (line 2)) (1.6.1)\n",
            "Requirement already satisfied: altair==5.5.0 in /usr/local/lib/python3.11/dist-packages (from -r https://raw.githubusercontent.com/aso-uts/labs_datasets/main/36106-mlaa/requirements.txt (line 3)) (5.5.0)\n",
            "Requirement already satisfied: numpy>=1.23.2 in /usr/local/lib/python3.11/dist-packages (from pandas==2.2.2->-r https://raw.githubusercontent.com/aso-uts/labs_datasets/main/36106-mlaa/requirements.txt (line 1)) (1.26.4)\n",
            "Requirement already satisfied: python-dateutil>=2.8.2 in /usr/local/lib/python3.11/dist-packages (from pandas==2.2.2->-r https://raw.githubusercontent.com/aso-uts/labs_datasets/main/36106-mlaa/requirements.txt (line 1)) (2.8.2)\n",
            "Requirement already satisfied: pytz>=2020.1 in /usr/local/lib/python3.11/dist-packages (from pandas==2.2.2->-r https://raw.githubusercontent.com/aso-uts/labs_datasets/main/36106-mlaa/requirements.txt (line 1)) (2025.1)\n",
            "Requirement already satisfied: tzdata>=2022.7 in /usr/local/lib/python3.11/dist-packages (from pandas==2.2.2->-r https://raw.githubusercontent.com/aso-uts/labs_datasets/main/36106-mlaa/requirements.txt (line 1)) (2025.1)\n",
            "Requirement already satisfied: scipy>=1.6.0 in /usr/local/lib/python3.11/dist-packages (from scikit-learn==1.6.1->-r https://raw.githubusercontent.com/aso-uts/labs_datasets/main/36106-mlaa/requirements.txt (line 2)) (1.13.1)\n",
            "Requirement already satisfied: joblib>=1.2.0 in /usr/local/lib/python3.11/dist-packages (from scikit-learn==1.6.1->-r https://raw.githubusercontent.com/aso-uts/labs_datasets/main/36106-mlaa/requirements.txt (line 2)) (1.4.2)\n",
            "Requirement already satisfied: threadpoolctl>=3.1.0 in /usr/local/lib/python3.11/dist-packages (from scikit-learn==1.6.1->-r https://raw.githubusercontent.com/aso-uts/labs_datasets/main/36106-mlaa/requirements.txt (line 2)) (3.5.0)\n",
            "Requirement already satisfied: jinja2 in /usr/local/lib/python3.11/dist-packages (from altair==5.5.0->-r https://raw.githubusercontent.com/aso-uts/labs_datasets/main/36106-mlaa/requirements.txt (line 3)) (3.1.5)\n",
            "Requirement already satisfied: jsonschema>=3.0 in /usr/local/lib/python3.11/dist-packages (from altair==5.5.0->-r https://raw.githubusercontent.com/aso-uts/labs_datasets/main/36106-mlaa/requirements.txt (line 3)) (4.23.0)\n",
            "Requirement already satisfied: narwhals>=1.14.2 in /usr/local/lib/python3.11/dist-packages (from altair==5.5.0->-r https://raw.githubusercontent.com/aso-uts/labs_datasets/main/36106-mlaa/requirements.txt (line 3)) (1.29.0)\n",
            "Requirement already satisfied: packaging in /usr/local/lib/python3.11/dist-packages (from altair==5.5.0->-r https://raw.githubusercontent.com/aso-uts/labs_datasets/main/36106-mlaa/requirements.txt (line 3)) (24.2)\n",
            "Requirement already satisfied: typing-extensions>=4.10.0 in /usr/local/lib/python3.11/dist-packages (from altair==5.5.0->-r https://raw.githubusercontent.com/aso-uts/labs_datasets/main/36106-mlaa/requirements.txt (line 3)) (4.12.2)\n",
            "Requirement already satisfied: attrs>=22.2.0 in /usr/local/lib/python3.11/dist-packages (from jsonschema>=3.0->altair==5.5.0->-r https://raw.githubusercontent.com/aso-uts/labs_datasets/main/36106-mlaa/requirements.txt (line 3)) (25.1.0)\n",
            "Requirement already satisfied: jsonschema-specifications>=2023.03.6 in /usr/local/lib/python3.11/dist-packages (from jsonschema>=3.0->altair==5.5.0->-r https://raw.githubusercontent.com/aso-uts/labs_datasets/main/36106-mlaa/requirements.txt (line 3)) (2024.10.1)\n",
            "Requirement already satisfied: referencing>=0.28.4 in /usr/local/lib/python3.11/dist-packages (from jsonschema>=3.0->altair==5.5.0->-r https://raw.githubusercontent.com/aso-uts/labs_datasets/main/36106-mlaa/requirements.txt (line 3)) (0.36.2)\n",
            "Requirement already satisfied: rpds-py>=0.7.1 in /usr/local/lib/python3.11/dist-packages (from jsonschema>=3.0->altair==5.5.0->-r https://raw.githubusercontent.com/aso-uts/labs_datasets/main/36106-mlaa/requirements.txt (line 3)) (0.23.1)\n",
            "Requirement already satisfied: six>=1.5 in /usr/local/lib/python3.11/dist-packages (from python-dateutil>=2.8.2->pandas==2.2.2->-r https://raw.githubusercontent.com/aso-uts/labs_datasets/main/36106-mlaa/requirements.txt (line 1)) (1.17.0)\n",
            "Requirement already satisfied: MarkupSafe>=2.0 in /usr/local/lib/python3.11/dist-packages (from jinja2->altair==5.5.0->-r https://raw.githubusercontent.com/aso-uts/labs_datasets/main/36106-mlaa/requirements.txt (line 3)) (3.0.2)\n",
            "\n",
            "###### Connect to personal Google Drive ######\n",
            "Mounted at /content/gdrive\n",
            "\n",
            "###### Setting up folders ######\n",
            "\n",
            "You can now save your data files in: /content/gdrive/MyDrive/36106/assignment/AT1/data\n",
            "/content/gdrive/MyDrive/36106/assignment/AT1/data\n"
          ]
        }
      ]
    },
    {
      "cell_type": "markdown",
      "source": [
        "### 0.b Disable Warnings Messages\n",
        "\n",
        "> Do not modify this code before running it"
      ],
      "metadata": {
        "id": "jM39DExClCc5"
      }
    },
    {
      "cell_type": "code",
      "source": [
        "import warnings\n",
        "warnings.simplefilter(action='ignore', category=FutureWarning)"
      ],
      "metadata": {
        "id": "6FneOmBfka9G"
      },
      "execution_count": null,
      "outputs": []
    },
    {
      "cell_type": "markdown",
      "source": [
        "### 0.c Install Additional Packages\n",
        "\n",
        "> If you are using additional packages, you need to install them here using the command: `! pip install <package_name>`"
      ],
      "metadata": {
        "id": "CgTrMfyylVLf"
      }
    },
    {
      "cell_type": "code",
      "source": [
        "# <Student to fill this section>"
      ],
      "metadata": {
        "id": "D79tb2V-lVpJ"
      },
      "execution_count": null,
      "outputs": []
    },
    {
      "cell_type": "markdown",
      "source": [
        "### 0.d Import Packages"
      ],
      "metadata": {
        "id": "mXFKfa2tp1ch"
      }
    },
    {
      "cell_type": "code",
      "source": [
        "import ipywidgets as widgets\n",
        "import pandas as pd\n",
        "import altair as alt"
      ],
      "metadata": {
        "id": "GBEAwdncnlAx"
      },
      "execution_count": null,
      "outputs": []
    },
    {
      "cell_type": "markdown",
      "metadata": {
        "id": "tQgxLRrvjiJb"
      },
      "source": [
        "---\n",
        "## A. Project Description\n"
      ]
    },
    {
      "cell_type": "code",
      "source": [
        "# @title Student Information\n",
        "wgt_student_name = widgets.Text(\n",
        "    value=None,\n",
        "    placeholder='<student to fill this section>',\n",
        "    description='Student Name:',\n",
        "    style={'description_width': 'initial'},\n",
        "    disabled=False\n",
        ")\n",
        "\n",
        "wgt_student_id = widgets.Text(\n",
        "    value=None,\n",
        "    placeholder='<student to fill this section>',\n",
        "    description='Student Id:',\n",
        "    style={'description_width': 'initial'},\n",
        "    disabled=False\n",
        ")\n",
        "\n",
        "widgets.HBox([wgt_student_name, wgt_student_id])"
      ],
      "metadata": {
        "colab": {
          "base_uri": "https://localhost:8080/",
          "height": 49,
          "referenced_widgets": [
            "bfd4fcd4140b49f382c48ec8e7ca243d",
            "fa9bb37e05404c219b8c852357fd3eef",
            "53bc00ded84b4633817989f794a03dab",
            "41862230df4147f180d56536c77041a4",
            "f17b494632ca4026a31996c18963841c",
            "97f52adcb17b4cc28defb1025eaa405a",
            "928fb254b02c4da682e429366d4d1789",
            "9f1903fe92224ebc9f9b279b9a4bf9c8"
          ]
        },
        "cellView": "form",
        "id": "fGU0q-Egs0Ju",
        "outputId": "8aee714d-9922-45b9-e0f5-de74988b2796"
      },
      "execution_count": null,
      "outputs": [
        {
          "output_type": "display_data",
          "data": {
            "text/plain": [
              "HBox(children=(Text(value='', description='Student Name:', placeholder='<student to fill this section>', style…"
            ],
            "application/vnd.jupyter.widget-view+json": {
              "version_major": 2,
              "version_minor": 0,
              "model_id": "bfd4fcd4140b49f382c48ec8e7ca243d"
            }
          },
          "metadata": {}
        }
      ]
    },
    {
      "cell_type": "code",
      "source": [
        "# @title Experiment ID\n",
        "\n",
        "wgt_experiment_id = widgets.BoundedIntText(\n",
        "    value=0,\n",
        "    min=0,\n",
        "    max=3,\n",
        "    step=1,\n",
        "    description='Experiment ID:',\n",
        "    style={'description_width': 'initial'},\n",
        "    disabled=False\n",
        ")\n",
        "wgt_experiment_id"
      ],
      "metadata": {
        "colab": {
          "base_uri": "https://localhost:8080/",
          "height": 49,
          "referenced_widgets": [
            "189f81f1687e400087ef63f5716d4217",
            "ab20bf58a4814741995230fc23b44feb",
            "433ee358109d4283995f6b7675fc8164"
          ]
        },
        "cellView": "form",
        "id": "RWCjbJJmnKbB",
        "outputId": "5c3b8d84-de8d-4b33-c1e1-942701d39fff"
      },
      "execution_count": null,
      "outputs": [
        {
          "output_type": "display_data",
          "data": {
            "text/plain": [
              "BoundedIntText(value=0, description='Experiment ID:', max=3, style=DescriptionStyle(description_width='initial…"
            ],
            "application/vnd.jupyter.widget-view+json": {
              "version_major": 2,
              "version_minor": 0,
              "model_id": "189f81f1687e400087ef63f5716d4217"
            }
          },
          "metadata": {}
        }
      ]
    },
    {
      "cell_type": "code",
      "source": [
        "# @title Business Objective\n",
        "\n",
        "wgt_business_objective = widgets.Textarea(\n",
        "    value=None,\n",
        "    placeholder='<student to fill this section>',\n",
        "    description='Business Objective:',\n",
        "    disabled=False,\n",
        "    style={'description_width': 'initial'},\n",
        "    layout=widgets.Layout(height=\"100%\", width=\"auto\")\n",
        ")\n",
        "wgt_business_objective"
      ],
      "metadata": {
        "colab": {
          "base_uri": "https://localhost:8080/",
          "height": 63,
          "referenced_widgets": [
            "4d7e61b0713c4df2ae2ea3e96e855282",
            "8fd00c81d5094900b2e22e9359d0c61d",
            "422789c08b0d43e491befed47fecd3b5"
          ]
        },
        "cellView": "form",
        "id": "-yUkIvPntXrt",
        "outputId": "8de52f23-8ea6-491e-ebbb-09682238070c"
      },
      "execution_count": null,
      "outputs": [
        {
          "output_type": "display_data",
          "data": {
            "text/plain": [
              "Textarea(value='', description='Business Objective:', layout=Layout(height='100%', width='auto'), placeholder=…"
            ],
            "application/vnd.jupyter.widget-view+json": {
              "version_major": 2,
              "version_minor": 0,
              "model_id": "4d7e61b0713c4df2ae2ea3e96e855282"
            }
          },
          "metadata": {}
        }
      ]
    },
    {
      "cell_type": "markdown",
      "source": [
        "---\n",
        "## B. Experiment Description"
      ],
      "metadata": {
        "id": "4q1Bzcejvfpm"
      }
    },
    {
      "cell_type": "code",
      "source": [
        "# @title Experiment Hypothesis\n",
        "\n",
        "wgt_experiment_hypothesis = widgets.Textarea(\n",
        "    value=None,\n",
        "    placeholder='<student to fill this section>',\n",
        "    description='Experiment Hypothesis:',\n",
        "    disabled=False,\n",
        "    style={'description_width': 'initial'},\n",
        "    layout=widgets.Layout(height=\"100%\", width=\"auto\")\n",
        ")\n",
        "wgt_experiment_hypothesis"
      ],
      "metadata": {
        "colab": {
          "base_uri": "https://localhost:8080/",
          "height": 63,
          "referenced_widgets": [
            "de7879db7cf84c7687e25393bed98c32",
            "4d25c7675f894f7ca9690bfc1495540e",
            "3e92768f0bd6424aaef78b48e2555f8b"
          ]
        },
        "cellView": "form",
        "id": "GXd_BeBLvlH9",
        "outputId": "7c57b2da-5be2-4f59-ecfe-c32d59635b98"
      },
      "execution_count": null,
      "outputs": [
        {
          "output_type": "display_data",
          "data": {
            "text/plain": [
              "Textarea(value='', description='Experiment Hypothesis:', layout=Layout(height='100%', width='auto'), placehold…"
            ],
            "application/vnd.jupyter.widget-view+json": {
              "version_major": 2,
              "version_minor": 0,
              "model_id": "de7879db7cf84c7687e25393bed98c32"
            }
          },
          "metadata": {}
        }
      ]
    },
    {
      "cell_type": "code",
      "source": [
        "\n",
        "# @title Experiment Expectations\n",
        "\n",
        "wgt_experiment_expectations = widgets.Textarea(\n",
        "    value=None,\n",
        "    placeholder='<student to fill this section>',\n",
        "    description='Experiment Expectations:',\n",
        "    disabled=False,\n",
        "    style={'description_width': 'initial'},\n",
        "    layout=widgets.Layout(height=\"100%\", width=\"auto\")\n",
        ")\n",
        "wgt_experiment_expectations"
      ],
      "metadata": {
        "cellView": "form",
        "colab": {
          "base_uri": "https://localhost:8080/",
          "height": 63,
          "referenced_widgets": [
            "5c2d7091a41e4295a47c69c50e713702",
            "5965f53bfe694dc3bdb66fd5330878ce",
            "fbd97c3345e449fbbede7366e5770724"
          ]
        },
        "id": "-U21y_pAwdJe",
        "outputId": "83f2063c-9924-457a-af37-abe91430198d"
      },
      "execution_count": null,
      "outputs": [
        {
          "output_type": "display_data",
          "data": {
            "text/plain": [
              "Textarea(value='', description='Experiment Expectations:', layout=Layout(height='100%', width='auto'), placeho…"
            ],
            "application/vnd.jupyter.widget-view+json": {
              "version_major": 2,
              "version_minor": 0,
              "model_id": "5c2d7091a41e4295a47c69c50e713702"
            }
          },
          "metadata": {}
        }
      ]
    },
    {
      "cell_type": "markdown",
      "source": [
        "---\n",
        "## C. Data Understanding"
      ],
      "metadata": {
        "id": "P0zsEPshwy1K"
      }
    },
    {
      "cell_type": "markdown",
      "source": [
        "### C.1   Load Datasets\n",
        "\n",
        "> Do not change this code"
      ],
      "metadata": {
        "id": "kKgkHZnNypnE"
      }
    },
    {
      "cell_type": "code",
      "source": [
        "# Load training data\n",
        "training_df = pd.read_csv(folder_path / \"rental_training.csv\")"
      ],
      "metadata": {
        "id": "NKgOzSn-w0eq"
      },
      "execution_count": null,
      "outputs": []
    },
    {
      "cell_type": "code",
      "source": [
        "# Load validation data\n",
        "validation_df = pd.read_csv(folder_path / \"rental_validation.csv\")"
      ],
      "metadata": {
        "id": "KUrJMQ2jw0m3"
      },
      "execution_count": null,
      "outputs": []
    },
    {
      "cell_type": "code",
      "source": [
        "# Load testing data\n",
        "testing_df = pd.read_csv(folder_path / \"rental_testing.csv\")"
      ],
      "metadata": {
        "id": "YmD8k_bdw054"
      },
      "execution_count": null,
      "outputs": []
    },
    {
      "cell_type": "markdown",
      "source": [
        "### C.2 Explore Training Set\n",
        "\n",
        "> You can add more cells in this section"
      ],
      "metadata": {
        "id": "gL5f0ePt0SGX"
      }
    },
    {
      "cell_type": "code",
      "source": [
        "# <Student to fill this section>"
      ],
      "metadata": {
        "id": "OfWPmPTD0UGo"
      },
      "execution_count": null,
      "outputs": []
    },
    {
      "cell_type": "code",
      "source": [
        "# @title Training Set Insights\n",
        "\n",
        "wgt_eda_training_set_insights = widgets.Textarea(\n",
        "    value=None,\n",
        "    placeholder='<student to fill this section>',\n",
        "    description='Training Set Insights:',\n",
        "    disabled=False,\n",
        "    style={'description_width': 'initial'},\n",
        "    layout=widgets.Layout(height=\"100%\", width=\"auto\")\n",
        ")\n",
        "wgt_eda_training_set_insights"
      ],
      "metadata": {
        "colab": {
          "base_uri": "https://localhost:8080/",
          "height": 63,
          "referenced_widgets": [
            "074005cfc308472d88a79555309b4583",
            "860f23016dd64452b664185aacc28296",
            "5a60850e28724e5b8d70dfaaafca544f"
          ]
        },
        "cellView": "form",
        "id": "QIIgFGlj0uSI",
        "outputId": "b3e844e9-8a80-4308-ff65-355e1a45054f"
      },
      "execution_count": null,
      "outputs": [
        {
          "output_type": "display_data",
          "data": {
            "text/plain": [
              "Textarea(value='', description='Training Set Insights:', layout=Layout(height='100%', width='auto'), placehold…"
            ],
            "application/vnd.jupyter.widget-view+json": {
              "version_major": 2,
              "version_minor": 0,
              "model_id": "074005cfc308472d88a79555309b4583"
            }
          },
          "metadata": {}
        }
      ]
    },
    {
      "cell_type": "markdown",
      "source": [
        "### C.3 Explore Validation Set\n",
        "\n",
        "> You can add more cells in this section"
      ],
      "metadata": {
        "id": "o16zbGxD1RH3"
      }
    },
    {
      "cell_type": "code",
      "source": [
        "# <Student to fill this section>"
      ],
      "metadata": {
        "id": "Iqewj7ws0UJ3"
      },
      "execution_count": null,
      "outputs": []
    },
    {
      "cell_type": "code",
      "source": [
        "# @title Validation Set Insights\n",
        "\n",
        "wgt_eda_validation_set_insights = widgets.Textarea(\n",
        "    value=None,\n",
        "    placeholder='<student to fill this section>',\n",
        "    description='Validation Set Insights:',\n",
        "    disabled=False,\n",
        "    style={'description_width': 'initial'},\n",
        "    layout=widgets.Layout(height=\"100%\", width=\"auto\")\n",
        ")\n",
        "wgt_eda_validation_set_insights"
      ],
      "metadata": {
        "colab": {
          "base_uri": "https://localhost:8080/",
          "height": 63,
          "referenced_widgets": [
            "0d03af02f534402298e99c0fd12c1b62",
            "393cacf10dd5422587725f98b63885e5",
            "9ca71f9c4b994dc4bba48d6769980b2c"
          ]
        },
        "cellView": "form",
        "id": "rlSXpYcZ1upa",
        "outputId": "f3fdd7ec-43c8-4cdc-9244-a6b519998594"
      },
      "execution_count": null,
      "outputs": [
        {
          "output_type": "display_data",
          "data": {
            "text/plain": [
              "Textarea(value='', description='Validation Set Insights:', layout=Layout(height='100%', width='auto'), placeho…"
            ],
            "application/vnd.jupyter.widget-view+json": {
              "version_major": 2,
              "version_minor": 0,
              "model_id": "0d03af02f534402298e99c0fd12c1b62"
            }
          },
          "metadata": {}
        }
      ]
    },
    {
      "cell_type": "markdown",
      "source": [
        "### C.4 Explore Testing Set\n",
        "\n",
        "> You can add more cells in this section"
      ],
      "metadata": {
        "id": "xoGG45mM1pXT"
      }
    },
    {
      "cell_type": "code",
      "source": [
        "# <Student to fill this section>"
      ],
      "metadata": {
        "id": "u2lHgY4g0UMv"
      },
      "execution_count": null,
      "outputs": []
    },
    {
      "cell_type": "code",
      "source": [
        "# @title Testing Set Insights\n",
        "\n",
        "wgt_eda_testing_set_insights = widgets.Textarea(\n",
        "    value=None,\n",
        "    placeholder='<student to fill this section>',\n",
        "    description='Testing Set Insights:',\n",
        "    disabled=False,\n",
        "    style={'description_width': 'initial'},\n",
        "    layout=widgets.Layout(height=\"100%\", width=\"auto\")\n",
        ")\n",
        "wgt_eda_testing_set_insights"
      ],
      "metadata": {
        "colab": {
          "base_uri": "https://localhost:8080/",
          "height": 63,
          "referenced_widgets": [
            "1730b09b33e34f90b5c465373443f732",
            "aa20fc4267bb4e8b91f6f1bf1a24e944",
            "2e1751ea627a447c9db6cc94e5fd00a2"
          ]
        },
        "cellView": "form",
        "id": "UNYHPnZp12at",
        "outputId": "30e5849c-795b-4280-ec29-ed46c719fc89"
      },
      "execution_count": null,
      "outputs": [
        {
          "output_type": "display_data",
          "data": {
            "text/plain": [
              "Textarea(value='', description='Testing Set Insights:', layout=Layout(height='100%', width='auto'), placeholde…"
            ],
            "application/vnd.jupyter.widget-view+json": {
              "version_major": 2,
              "version_minor": 0,
              "model_id": "1730b09b33e34f90b5c465373443f732"
            }
          },
          "metadata": {}
        }
      ]
    },
    {
      "cell_type": "markdown",
      "source": [
        "### C.5 Explore Target Variable\n",
        "\n",
        "> Save the name of column used as the target variable and call it `target_name`\n",
        "\n",
        "> You can add more cells in this section"
      ],
      "metadata": {
        "id": "bpaUZpXh2Myp"
      }
    },
    {
      "cell_type": "code",
      "source": [
        "# <Student to fill this section>\n",
        "\n",
        "target_name = ''"
      ],
      "metadata": {
        "id": "-D7GFBIV2Sbx"
      },
      "execution_count": null,
      "outputs": []
    },
    {
      "cell_type": "code",
      "source": [
        "# @title Target Variable Insights\n",
        "\n",
        "wgt_eda_target_variable_insights = widgets.Textarea(\n",
        "    value=None,\n",
        "    placeholder='<student to fill this section>',\n",
        "    description='Target Variable Insights:',\n",
        "    disabled=False,\n",
        "    style={'description_width': 'initial'},\n",
        "    layout=widgets.Layout(height=\"100%\", width=\"auto\")\n",
        ")\n",
        "wgt_eda_target_variable_insights"
      ],
      "metadata": {
        "colab": {
          "base_uri": "https://localhost:8080/",
          "height": 63,
          "referenced_widgets": [
            "39394e859b394a9b9b95b063feac28cd",
            "a3ce204207c44e8faa44c4cd93f44f32",
            "a4ed206573ff49af9d9bd74bd25f2257"
          ]
        },
        "cellView": "form",
        "id": "wD4OkQC42SnX",
        "outputId": "1ee0d66e-206d-4f83-fbfd-3fbed49ae83c"
      },
      "execution_count": null,
      "outputs": [
        {
          "output_type": "display_data",
          "data": {
            "text/plain": [
              "Textarea(value='', description='Target Variable Insights:', layout=Layout(height='100%', width='auto'), placeh…"
            ],
            "application/vnd.jupyter.widget-view+json": {
              "version_major": 2,
              "version_minor": 0,
              "model_id": "39394e859b394a9b9b95b063feac28cd"
            }
          },
          "metadata": {}
        }
      ]
    },
    {
      "cell_type": "markdown",
      "source": [
        "### C.6 Explore Feature of Interest\n",
        "\n",
        "> You can add more cells in this section"
      ],
      "metadata": {
        "id": "Ig93bpyM2RGY"
      }
    },
    {
      "cell_type": "code",
      "source": [
        "# <Student to fill this section>"
      ],
      "metadata": {
        "id": "GLxrz5Zb2TVo"
      },
      "execution_count": null,
      "outputs": []
    },
    {
      "cell_type": "code",
      "source": [
        "# @title Feature Insights\n",
        "\n",
        "wgt_eda_feature_insights = widgets.Textarea(\n",
        "    value=None,\n",
        "    placeholder='<student to fill this section>',\n",
        "    description='Feature Insights:',\n",
        "    disabled=False,\n",
        "    style={'description_width': 'initial'},\n",
        "    layout=widgets.Layout(height=\"100%\", width=\"auto\")\n",
        ")\n",
        "wgt_eda_feature_insights"
      ],
      "metadata": {
        "colab": {
          "base_uri": "https://localhost:8080/",
          "height": 63,
          "referenced_widgets": [
            "dea1fd9c0bf8475c97bb52a2c4d567e8",
            "058bd3204ea446e6bd9b6705aa7fd4c6",
            "d2f811c1222b4c7e8abbd8e703b2d756"
          ]
        },
        "cellView": "form",
        "id": "A3G0XTq52TYS",
        "outputId": "d5080d73-d753-4507-fda5-c0523a31ab58"
      },
      "execution_count": null,
      "outputs": [
        {
          "output_type": "display_data",
          "data": {
            "text/plain": [
              "Textarea(value='', description='Feature Insights:', layout=Layout(height='100%', width='auto'), placeholder='<…"
            ],
            "application/vnd.jupyter.widget-view+json": {
              "version_major": 2,
              "version_minor": 0,
              "model_id": "dea1fd9c0bf8475c97bb52a2c4d567e8"
            }
          },
          "metadata": {}
        }
      ]
    },
    {
      "cell_type": "markdown",
      "metadata": {
        "id": "_NCwQQFkU3v5"
      },
      "source": [
        "---\n",
        "## D. Feature Selection\n"
      ]
    },
    {
      "cell_type": "markdown",
      "source": [
        "### D.1 Approach 1"
      ],
      "metadata": {
        "id": "E18dcL6C3O-4"
      }
    },
    {
      "cell_type": "code",
      "execution_count": null,
      "metadata": {
        "id": "SiroVmhn9_HP"
      },
      "outputs": [],
      "source": [
        "# <Student to fill this section>"
      ]
    },
    {
      "cell_type": "code",
      "execution_count": null,
      "metadata": {
        "id": "Q1iETWjDftMg",
        "colab": {
          "base_uri": "https://localhost:8080/",
          "height": 63,
          "referenced_widgets": [
            "26bdaca80a114c3493849b238d5c52fb",
            "767b863a8eb64b58948fc1231798a38e",
            "d540ddc658bb48d4ae3df37fca18f14a"
          ]
        },
        "cellView": "form",
        "outputId": "90aa70ab-cec2-4431-fd6a-a1ae07494309"
      },
      "outputs": [
        {
          "output_type": "display_data",
          "data": {
            "text/plain": [
              "Textarea(value='', description='Feature Selection 1:', layout=Layout(height='100%', width='auto'), placeholder…"
            ],
            "application/vnd.jupyter.widget-view+json": {
              "version_major": 2,
              "version_minor": 0,
              "model_id": "26bdaca80a114c3493849b238d5c52fb"
            }
          },
          "metadata": {}
        }
      ],
      "source": [
        "# @title Feature Selection 1 Insights\n",
        "\n",
        "wgt_feat_selection_1_insights = widgets.Textarea(\n",
        "    value=None,\n",
        "    placeholder='<student to fill this section>',\n",
        "    description='Feature Selection 1:',\n",
        "    disabled=False,\n",
        "    style={'description_width': 'initial'},\n",
        "    layout=widgets.Layout(height=\"100%\", width=\"auto\")\n",
        ")\n",
        "wgt_feat_selection_1_insights"
      ]
    },
    {
      "cell_type": "markdown",
      "source": [
        "### D.2 Approach 2"
      ],
      "metadata": {
        "id": "m0WdHbsf3vTm"
      }
    },
    {
      "cell_type": "code",
      "source": [
        "# <Student to fill this section>"
      ],
      "metadata": {
        "id": "2aAKCI6v3xbC"
      },
      "execution_count": null,
      "outputs": []
    },
    {
      "cell_type": "code",
      "source": [
        "# @title Feature Selection 2 Insights\n",
        "\n",
        "wgt_feat_selection_2_insights = widgets.Textarea(\n",
        "    value=None,\n",
        "    placeholder='<student to fill this section>',\n",
        "    description='Feature Selection 2:',\n",
        "    disabled=False,\n",
        "    style={'description_width': 'initial'},\n",
        "    layout=widgets.Layout(height=\"100%\", width=\"auto\")\n",
        ")\n",
        "wgt_feat_selection_2_insights"
      ],
      "metadata": {
        "colab": {
          "base_uri": "https://localhost:8080/",
          "height": 63,
          "referenced_widgets": [
            "4362cd2b640b41b4a07225068152d0eb",
            "04ff513b7a174debb4e3b5b884a8c50b",
            "0384c11922eb4d79b3feeeb52c27d136"
          ]
        },
        "cellView": "form",
        "id": "0_j-q1eP3yMF",
        "outputId": "8205fe70-194a-4757-912c-1a415071183a"
      },
      "execution_count": null,
      "outputs": [
        {
          "output_type": "display_data",
          "data": {
            "text/plain": [
              "Textarea(value='', description='Feature Selection 2:', layout=Layout(height='100%', width='auto'), placeholder…"
            ],
            "application/vnd.jupyter.widget-view+json": {
              "version_major": 2,
              "version_minor": 0,
              "model_id": "4362cd2b640b41b4a07225068152d0eb"
            }
          },
          "metadata": {}
        }
      ]
    },
    {
      "cell_type": "markdown",
      "source": [
        "## D.3 Final Selection of Features\n",
        "\n",
        "> Save the names of selected features into a list called `features_list`"
      ],
      "metadata": {
        "id": "j5bbQlUn3635"
      }
    },
    {
      "cell_type": "code",
      "source": [
        "# <Student to fill this section>\n",
        "\n",
        "features_list = []"
      ],
      "metadata": {
        "id": "zfC-DLKv4AuM"
      },
      "execution_count": null,
      "outputs": []
    },
    {
      "cell_type": "code",
      "source": [
        "# @title Feature Selection Explanation\n",
        "\n",
        "wgt_feat_selection_explanation = widgets.Textarea(\n",
        "    value=None,\n",
        "    placeholder='<student to fill this section>',\n",
        "    description='Feature Selection Explanation:',\n",
        "    disabled=False,\n",
        "    style={'description_width': 'initial'},\n",
        "    layout=widgets.Layout(height=\"100%\", width=\"auto\")\n",
        ")\n",
        "wgt_feat_selection_explanation"
      ],
      "metadata": {
        "colab": {
          "base_uri": "https://localhost:8080/",
          "height": 63,
          "referenced_widgets": [
            "6167408d097c4b3f8ab16ede73a77cf3",
            "ef19429720c54108a192ce2d588b68c0",
            "97ee63190d794c4f81de2daf8c3edc76"
          ]
        },
        "id": "l3TDTIWr4BYF",
        "outputId": "e22ffaef-a273-4b7b-8846-2a9bea942616"
      },
      "execution_count": null,
      "outputs": [
        {
          "output_type": "display_data",
          "data": {
            "text/plain": [
              "Textarea(value='', description='Feature Selection Explanation:', layout=Layout(height='100%', width='auto'), p…"
            ],
            "application/vnd.jupyter.widget-view+json": {
              "version_major": 2,
              "version_minor": 0,
              "model_id": "6167408d097c4b3f8ab16ede73a77cf3"
            }
          },
          "metadata": {}
        }
      ]
    },
    {
      "cell_type": "markdown",
      "source": [
        "---\n",
        "## E. Data Cleaning"
      ],
      "metadata": {
        "id": "ErH_bh604mOe"
      }
    },
    {
      "cell_type": "markdown",
      "metadata": {
        "id": "miQ6SiKlscLx"
      },
      "source": [
        "### E.1 Copy Datasets\n",
        "\n",
        "> Create copies of the datasets and called them `training_df_clean`, `validation_df_clean` and `testing_df_clean`\n",
        "\n",
        "> Do not change this code"
      ]
    },
    {
      "cell_type": "code",
      "execution_count": null,
      "metadata": {
        "id": "HrXR7NCLtwxB"
      },
      "outputs": [],
      "source": [
        "# Create copy of datasets\n",
        "\n",
        "training_df_clean = training_df[features_list].copy()\n",
        "validation_df_clean = validation_df[features_list].copy()\n",
        "testing_df_clean = testing_df[features_list].copy()"
      ]
    },
    {
      "cell_type": "markdown",
      "source": [
        "### E.2 Fixing \"\\<describe_issue_here\\>\"\n",
        "\n",
        "> Provide some explanations on why you believe it is important to fix this issue and its impacts\n",
        "\n",
        "> You can add more cells in this section"
      ],
      "metadata": {
        "id": "bII_PglX5E-r"
      }
    },
    {
      "cell_type": "code",
      "execution_count": null,
      "metadata": {
        "id": "iaR8p5n8hez4"
      },
      "outputs": [],
      "source": [
        "# <Student to fill this section>"
      ]
    },
    {
      "cell_type": "code",
      "execution_count": null,
      "metadata": {
        "id": "qG0Yn0Yvhez4",
        "colab": {
          "base_uri": "https://localhost:8080/",
          "height": 63,
          "referenced_widgets": [
            "59ed4d017a7d47cebaab864a481ae0e2",
            "a8f55e98b10242b387dd252bd09b024b",
            "295a67cea72a46dd946309652a123b7b"
          ]
        },
        "cellView": "form",
        "outputId": "37a54265-c415-43ed-c2bb-cf8524a277ef"
      },
      "outputs": [
        {
          "output_type": "display_data",
          "data": {
            "text/plain": [
              "Textarea(value='', description='Data Cleaning 1 Explanation:', layout=Layout(height='100%', width='auto'), pla…"
            ],
            "application/vnd.jupyter.widget-view+json": {
              "version_major": 2,
              "version_minor": 0,
              "model_id": "59ed4d017a7d47cebaab864a481ae0e2"
            }
          },
          "metadata": {}
        }
      ],
      "source": [
        "# @title Data Cleaning 1 Explanation\n",
        "\n",
        "wgt_data_cleaning_1_explanation = widgets.Textarea(\n",
        "    value=None,\n",
        "    placeholder='<student to fill this section>',\n",
        "    description='Data Cleaning 1 Explanation:',\n",
        "    disabled=False,\n",
        "    style={'description_width': 'initial'},\n",
        "    layout=widgets.Layout(height=\"100%\", width=\"auto\")\n",
        ")\n",
        "wgt_data_cleaning_1_explanation"
      ]
    },
    {
      "cell_type": "markdown",
      "source": [
        "### E.3 Fixing \"\\<describe_issue_here\\>\"\n",
        "\n",
        "> Provide some explanations on why you believe it is important to fix this issue and its impacts\n",
        "\n",
        "> You can add more cells in this section"
      ],
      "metadata": {
        "id": "wRJ6Ql1F5ODe"
      }
    },
    {
      "cell_type": "code",
      "execution_count": null,
      "metadata": {
        "id": "DsTzKV3bhez4"
      },
      "outputs": [],
      "source": [
        "# <Student to fill this section>"
      ]
    },
    {
      "cell_type": "code",
      "source": [
        "# @title Data Cleaning 2 Explanation\n",
        "\n",
        "wgt_data_cleaning_2_explanation = widgets.Textarea(\n",
        "    value=None,\n",
        "    placeholder='<student to fill this section>',\n",
        "    description='Data Cleaning 1 Explanation:',\n",
        "    disabled=False,\n",
        "    style={'description_width': 'initial'},\n",
        "    layout=widgets.Layout(height=\"100%\", width=\"auto\")\n",
        ")\n",
        "wgt_data_cleaning_2_explanation"
      ],
      "metadata": {
        "colab": {
          "base_uri": "https://localhost:8080/",
          "height": 63,
          "referenced_widgets": [
            "d9e54a4b1a8b4853bde3c83c98f8034e",
            "423e2679cd194389a44f61208f41962c",
            "646eab76215e470c9a712d84a4ea185b"
          ]
        },
        "cellView": "form",
        "id": "fDrSCsSJ5PRg",
        "outputId": "558b989c-a581-4627-f747-a786963c2374"
      },
      "execution_count": null,
      "outputs": [
        {
          "output_type": "display_data",
          "data": {
            "text/plain": [
              "Textarea(value='', description='Data Cleaning 1 Explanation:', layout=Layout(height='100%', width='auto'), pla…"
            ],
            "application/vnd.jupyter.widget-view+json": {
              "version_major": 2,
              "version_minor": 0,
              "model_id": "d9e54a4b1a8b4853bde3c83c98f8034e"
            }
          },
          "metadata": {}
        }
      ]
    },
    {
      "cell_type": "markdown",
      "source": [
        "### E.4 Fixing \"\\<describe_issue_here\\>\"\n",
        "\n",
        "> Provide some explanations on why you believe it is important to fix this issue and its impacts\n",
        "\n",
        "> You can add more cells in this section"
      ],
      "metadata": {
        "id": "qhu0LRMi5PgV"
      }
    },
    {
      "cell_type": "code",
      "source": [
        "# <Student to fill this section>"
      ],
      "metadata": {
        "id": "eJh1KWoF5Qze"
      },
      "execution_count": null,
      "outputs": []
    },
    {
      "cell_type": "code",
      "source": [
        "# @title Data Cleaning 3 Explanation\n",
        "\n",
        "wgt_data_cleaning_3_explanation = widgets.Textarea(\n",
        "    value=None,\n",
        "    placeholder='<student to fill this section>',\n",
        "    description='Data Cleaning 3 Explanation:',\n",
        "    disabled=False,\n",
        "    style={'description_width': 'initial'},\n",
        "    layout=widgets.Layout(height=\"100%\", width=\"auto\")\n",
        ")\n",
        "wgt_data_cleaning_3_explanation"
      ],
      "metadata": {
        "colab": {
          "base_uri": "https://localhost:8080/",
          "height": 63,
          "referenced_widgets": [
            "a46246b0324c451f80ed9722fad6d3a7",
            "bb7cfa7a684d4d858df2722c2f9861f9",
            "21cbf7bcc4f3406d9c100136d03738f4"
          ]
        },
        "cellView": "form",
        "id": "kFGEVDCF5Q99",
        "outputId": "724d870b-16c2-4e4a-e6f8-014c8ac4b093"
      },
      "execution_count": null,
      "outputs": [
        {
          "output_type": "display_data",
          "data": {
            "text/plain": [
              "Textarea(value='', description='Data Cleaning 3 Explanation:', layout=Layout(height='100%', width='auto'), pla…"
            ],
            "application/vnd.jupyter.widget-view+json": {
              "version_major": 2,
              "version_minor": 0,
              "model_id": "a46246b0324c451f80ed9722fad6d3a7"
            }
          },
          "metadata": {}
        }
      ]
    },
    {
      "cell_type": "markdown",
      "source": [
        "---\n",
        "## F. Feature Engineering"
      ],
      "metadata": {
        "id": "Z9jsWz-z5-XS"
      }
    },
    {
      "cell_type": "markdown",
      "source": [
        "### F.1 Copy Datasets\n",
        "\n",
        "> Create copies of the datasets and called them `training_df_eng`, `validation_df_eng` and `testing_df_eng`\n",
        "\n",
        "> Do not change this code"
      ],
      "metadata": {
        "id": "DMN-Plpk6EPF"
      }
    },
    {
      "cell_type": "code",
      "source": [
        "# Create copy of datasets\n",
        "\n",
        "training_df_eng = training_df_clean.copy()\n",
        "validation_df_eng = validation_df_clean.copy()\n",
        "testing_df_eng = testing_df_clean.copy()"
      ],
      "metadata": {
        "id": "viLWliu76Fm6"
      },
      "execution_count": null,
      "outputs": []
    },
    {
      "cell_type": "markdown",
      "source": [
        "### F.2 New Feature \"\\<put_name_here\\>\"\n",
        "\n",
        "> Provide some explanations on why you believe it is important to create this feature and its impacts\n",
        "\n"
      ],
      "metadata": {
        "id": "imwl7ISs6O0t"
      }
    },
    {
      "cell_type": "code",
      "source": [
        "# <Student to fill this section>"
      ],
      "metadata": {
        "id": "t5RVBQKW6mJj"
      },
      "execution_count": null,
      "outputs": []
    },
    {
      "cell_type": "code",
      "source": [
        "# @title Feature Engineering 1 Explanation\n",
        "\n",
        "wgt_feature_engineering_1_explanation = widgets.Textarea(\n",
        "    value=None,\n",
        "    placeholder='<student to fill this section>',\n",
        "    description='Feature Engineering 1 Explanation:',\n",
        "    disabled=False,\n",
        "    style={'description_width': 'initial'},\n",
        "    layout=widgets.Layout(height=\"100%\", width=\"auto\")\n",
        ")\n",
        "wgt_feature_engineering_1_explanation"
      ],
      "metadata": {
        "colab": {
          "base_uri": "https://localhost:8080/",
          "height": 63,
          "referenced_widgets": [
            "2de107aa221e4eb9abb47bca6dfc18c1",
            "97be522d85c54bdb894e3c0998bea587",
            "1fea3eb1c88e4938a75e891d27b2a643"
          ]
        },
        "cellView": "form",
        "id": "eb1YYEyc6qcL",
        "outputId": "1509a1ec-c2f8-424a-96fe-0e4d19ab5e60"
      },
      "execution_count": null,
      "outputs": [
        {
          "output_type": "display_data",
          "data": {
            "text/plain": [
              "Textarea(value='', description='Feature Engineering 1 Explanation:', layout=Layout(height='100%', width='auto'…"
            ],
            "application/vnd.jupyter.widget-view+json": {
              "version_major": 2,
              "version_minor": 0,
              "model_id": "2de107aa221e4eb9abb47bca6dfc18c1"
            }
          },
          "metadata": {}
        }
      ]
    },
    {
      "cell_type": "markdown",
      "source": [
        "### F.3 New Feature \"\\<put_name_here\\>\"\n",
        "\n",
        "> Provide some explanations on why you believe it is important to create this feature and its impacts\n",
        "\n"
      ],
      "metadata": {
        "id": "jYxCnW3C6zJj"
      }
    },
    {
      "cell_type": "code",
      "source": [
        "# <Student to fill this section>"
      ],
      "metadata": {
        "id": "y03X8eeW6zbL"
      },
      "execution_count": null,
      "outputs": []
    },
    {
      "cell_type": "code",
      "source": [
        "# @title Feature Engineering 2 Explanation\n",
        "\n",
        "wgt_feature_engineering_2_explanation = widgets.Textarea(\n",
        "    value=None,\n",
        "    placeholder='<student to fill this section>',\n",
        "    description='Feature Engineering 2 Explanation:',\n",
        "    disabled=False,\n",
        "    style={'description_width': 'initial'},\n",
        "    layout=widgets.Layout(height=\"100%\", width=\"auto\")\n",
        ")\n",
        "wgt_feature_engineering_2_explanation"
      ],
      "metadata": {
        "colab": {
          "base_uri": "https://localhost:8080/",
          "height": 63,
          "referenced_widgets": [
            "c0d2de968f104d3e848fbafea795e2bc",
            "49be9d15743b4bce8bfc591be6bfbc08",
            "4fc252abfb2844f49cb729a601587be8"
          ]
        },
        "cellView": "form",
        "id": "3oQ9Wabs6zeP",
        "outputId": "9d049875-7d9b-418a-df04-07b77ae28630"
      },
      "execution_count": null,
      "outputs": [
        {
          "output_type": "display_data",
          "data": {
            "text/plain": [
              "Textarea(value='', description='Feature Engineering 2 Explanation:', layout=Layout(height='100%', width='auto'…"
            ],
            "application/vnd.jupyter.widget-view+json": {
              "version_major": 2,
              "version_minor": 0,
              "model_id": "c0d2de968f104d3e848fbafea795e2bc"
            }
          },
          "metadata": {}
        }
      ]
    },
    {
      "cell_type": "markdown",
      "source": [
        "### F.4 New Feature \"\\<put_name_here\\>\"\n",
        "\n",
        "> Provide some explanations on why you believe it is important to create this feature and its impacts\n",
        "\n"
      ],
      "metadata": {
        "id": "gWF4jvXb62kU"
      }
    },
    {
      "cell_type": "code",
      "source": [
        "# <Student to fill this section>"
      ],
      "metadata": {
        "id": "dfXFMHqw62r4"
      },
      "execution_count": null,
      "outputs": []
    },
    {
      "cell_type": "code",
      "source": [
        "# @title Feature Engineering 3 Explanation\n",
        "\n",
        "wgt_feature_engineering_3_explanation = widgets.Textarea(\n",
        "    value=None,\n",
        "    placeholder='<student to fill this section>',\n",
        "    description='Feature Engineering 3 Explanation:',\n",
        "    disabled=False,\n",
        "    style={'description_width': 'initial'},\n",
        "    layout=widgets.Layout(height=\"100%\", width=\"auto\")\n",
        ")\n",
        "wgt_feature_engineering_3_explanation"
      ],
      "metadata": {
        "colab": {
          "base_uri": "https://localhost:8080/",
          "height": 63,
          "referenced_widgets": [
            "ce155f59cf294b9f86ae46615556409d",
            "69c079fc24d040fd91cb2b74a809ee19",
            "21e1f6de349b49d7bc1f01d5404f5421"
          ]
        },
        "cellView": "form",
        "id": "wH844mhp62uc",
        "outputId": "5d27d5f3-0c5e-4eaf-cb4c-5826f8d31214"
      },
      "execution_count": null,
      "outputs": [
        {
          "output_type": "display_data",
          "data": {
            "text/plain": [
              "Textarea(value='', description='Feature Engineering 3 Explanation:', layout=Layout(height='100%', width='auto'…"
            ],
            "application/vnd.jupyter.widget-view+json": {
              "version_major": 2,
              "version_minor": 0,
              "model_id": "ce155f59cf294b9f86ae46615556409d"
            }
          },
          "metadata": {}
        }
      ]
    },
    {
      "cell_type": "markdown",
      "metadata": {
        "id": "N0S5LSAcjkvP"
      },
      "source": [
        "---\n",
        "## G. Data Preparation for Modeling"
      ]
    },
    {
      "cell_type": "markdown",
      "source": [
        "### G.1 Copy Datasets\n",
        "\n",
        "> Create copies of the datasets and split them into X and y\n",
        "\n",
        "> Do not change this code"
      ],
      "metadata": {
        "id": "QvZXnuBJ7Pws"
      }
    },
    {
      "cell_type": "code",
      "source": [
        "# Create copy of datasets\n",
        "\n",
        "X_train = training_df_eng.copy()\n",
        "X_val = validation_df_eng.copy()\n",
        "X_test = testing_df_eng.copy()\n",
        "\n",
        "y_train = X_train.pop(target_name)\n",
        "y_val = X_val.pop(target_name)\n",
        "y_test = X_test.pop(target_name)"
      ],
      "metadata": {
        "id": "O35HkNkhdbu0"
      },
      "execution_count": null,
      "outputs": []
    },
    {
      "cell_type": "markdown",
      "source": [
        "### G.2 Data Transformation <put_name_here>\n",
        "\n",
        "> Provide some explanations on why you believe it is important to perform this data transformation and its impacts\n"
      ],
      "metadata": {
        "id": "RKqt6BN6csNC"
      }
    },
    {
      "cell_type": "code",
      "execution_count": null,
      "metadata": {
        "id": "7PnGwsy2hez4"
      },
      "outputs": [],
      "source": [
        "# <Student to fill this section>"
      ]
    },
    {
      "cell_type": "code",
      "execution_count": null,
      "metadata": {
        "id": "MMoltFtYhez4",
        "colab": {
          "base_uri": "https://localhost:8080/",
          "height": 63,
          "referenced_widgets": [
            "f122295b72b24b9c868a99e5fc6ac922",
            "1c18c5b3609f4061bb944955920286f9",
            "9f2b629fe73e427a8547a749aef6a334"
          ]
        },
        "cellView": "form",
        "outputId": "8ab82e66-8557-4b86-dd46-a350931883c5"
      },
      "outputs": [
        {
          "output_type": "display_data",
          "data": {
            "text/plain": [
              "Textarea(value='', description='Data Preparation 1 Explanation:', layout=Layout(height='100%', width='auto'), …"
            ],
            "application/vnd.jupyter.widget-view+json": {
              "version_major": 2,
              "version_minor": 0,
              "model_id": "f122295b72b24b9c868a99e5fc6ac922"
            }
          },
          "metadata": {}
        }
      ],
      "source": [
        "# @title Data Preparation 1 Explanation\n",
        "\n",
        "wgt_data_preparation_1_explanation = widgets.Textarea(\n",
        "    value=None,\n",
        "    placeholder='<student to fill this section>',\n",
        "    description='Data Preparation 1 Explanation:',\n",
        "    disabled=False,\n",
        "    style={'description_width': 'initial'},\n",
        "    layout=widgets.Layout(height=\"100%\", width=\"auto\")\n",
        ")\n",
        "wgt_data_preparation_1_explanation"
      ]
    },
    {
      "cell_type": "markdown",
      "source": [
        "### G.3 Data Transformation <put_name_here>\n",
        "\n",
        "> Provide some explanations on why you believe it is important to perform this data transformation and its impacts\n"
      ],
      "metadata": {
        "id": "Nl12P1VIdFGy"
      }
    },
    {
      "cell_type": "code",
      "source": [
        "# @title Data Preparation 2 Explanation\n",
        "\n",
        "wgt_data_preparation_2_explanation = widgets.Textarea(\n",
        "    value=None,\n",
        "    placeholder='<student to fill this section>',\n",
        "    description='Data Preparation 2 Explanation:',\n",
        "    disabled=False,\n",
        "    style={'description_width': 'initial'},\n",
        "    layout=widgets.Layout(height=\"100%\", width=\"auto\")\n",
        ")\n",
        "wgt_data_preparation_2_explanation"
      ],
      "metadata": {
        "colab": {
          "base_uri": "https://localhost:8080/",
          "height": 63,
          "referenced_widgets": [
            "a9f7d19bfb804a4fa34a868d19de4489",
            "62cb05c11ee14bffb67609633571174d",
            "2e16f2835c364849bad0bd5a7c279a26"
          ]
        },
        "id": "2U9h8i2VdHy6",
        "outputId": "e97ed1c3-645d-4d8c-f6ae-3950aa690c94"
      },
      "execution_count": null,
      "outputs": [
        {
          "output_type": "display_data",
          "data": {
            "text/plain": [
              "Textarea(value='', description='Data Preparation 2 Explanation:', layout=Layout(height='100%', width='auto'), …"
            ],
            "application/vnd.jupyter.widget-view+json": {
              "version_major": 2,
              "version_minor": 0,
              "model_id": "a9f7d19bfb804a4fa34a868d19de4489"
            }
          },
          "metadata": {}
        }
      ]
    },
    {
      "cell_type": "markdown",
      "source": [
        "### G.4 Data Transformation <put_name_here>\n",
        "\n",
        "> Provide some explanations on why you believe it is important to perform this data transformation and its impacts\n"
      ],
      "metadata": {
        "id": "nw8W-JpHdGlC"
      }
    },
    {
      "cell_type": "code",
      "source": [
        "# @title Data Preparation 3 Explanation\n",
        "\n",
        "wgt_data_preparation_3_explanation = widgets.Textarea(\n",
        "    value=None,\n",
        "    placeholder='<student to fill this section>',\n",
        "    description='Data Preparation 3 Explanation:',\n",
        "    disabled=False,\n",
        "    style={'description_width': 'initial'},\n",
        "    layout=widgets.Layout(height=\"100%\", width=\"auto\")\n",
        ")\n",
        "wgt_data_preparation_3_explanation"
      ],
      "metadata": {
        "colab": {
          "base_uri": "https://localhost:8080/",
          "height": 63,
          "referenced_widgets": [
            "f7b35e817ed74138b5722d69f4e5f448",
            "60c0e18c2a6d4bdc9ad27005a1215a9d",
            "f937315ee05e4819ab6b7f73ba3fe615"
          ]
        },
        "cellView": "form",
        "id": "fbyIoUzxdIPT",
        "outputId": "05010538-e08f-458e-b81d-253ec67c3b00"
      },
      "execution_count": null,
      "outputs": [
        {
          "output_type": "display_data",
          "data": {
            "text/plain": [
              "Textarea(value='', description='Data Preparation 3 Explanation:', layout=Layout(height='100%', width='auto'), …"
            ],
            "application/vnd.jupyter.widget-view+json": {
              "version_major": 2,
              "version_minor": 0,
              "model_id": "f7b35e817ed74138b5722d69f4e5f448"
            }
          },
          "metadata": {}
        }
      ]
    },
    {
      "cell_type": "markdown",
      "source": [
        "---\n",
        "## H. Save Datasets\n",
        "\n",
        "> Do not change this code"
      ],
      "metadata": {
        "id": "s0CJolMhdmLf"
      }
    },
    {
      "cell_type": "code",
      "source": [
        "# Save training set\n",
        "\n",
        "X_train.to_csv(folder_path / 'X_train.csv', index=False)\n",
        "y_train.to_csv(folder_path / 'y_train.csv', index=False)"
      ],
      "metadata": {
        "id": "hwIgKOsGdrf3"
      },
      "execution_count": null,
      "outputs": []
    },
    {
      "cell_type": "code",
      "source": [
        "# Save validation set\n",
        "\n",
        "X_val.to_csv(folder_path / 'X_val.csv', index=False)\n",
        "y_val.to_csv(folder_path / 'y_val.csv', index=False)"
      ],
      "metadata": {
        "id": "sFBBfgkndwum"
      },
      "execution_count": null,
      "outputs": []
    },
    {
      "cell_type": "code",
      "source": [
        "# Save testing set\n",
        "\n",
        "X_test.to_csv(folder_path / 'X_test.csv', index=False)\n",
        "y_test.to_csv(folder_path / 'y_test.csv', index=False)"
      ],
      "metadata": {
        "id": "BxMKz3zudw0d"
      },
      "execution_count": null,
      "outputs": []
    },
    {
      "cell_type": "markdown",
      "metadata": {
        "id": "N8MNBrC4Zgz6"
      },
      "source": [
        "---\n",
        "## I. Assess Baseline Model"
      ]
    },
    {
      "cell_type": "markdown",
      "source": [
        "### I.1 Generate Predictions with Baseline Model"
      ],
      "metadata": {
        "id": "4_tQitOfeDXr"
      }
    },
    {
      "cell_type": "code",
      "execution_count": null,
      "metadata": {
        "id": "Mh6epkAThez5"
      },
      "outputs": [],
      "source": [
        "# <Student to fill this section>"
      ]
    },
    {
      "cell_type": "markdown",
      "source": [
        "### I.2 Selection of Performance Metrics\n",
        "\n",
        "> Provide some explanations on why you believe the performance metrics you chose is appropriate\n"
      ],
      "metadata": {
        "id": "n5ApYC8BeLsB"
      }
    },
    {
      "cell_type": "code",
      "execution_count": null,
      "metadata": {
        "id": "7We16YIYhez5"
      },
      "outputs": [],
      "source": [
        "# <Student to fill this section>"
      ]
    },
    {
      "cell_type": "code",
      "execution_count": null,
      "metadata": {
        "id": "yQlcYIfThez5",
        "colab": {
          "base_uri": "https://localhost:8080/",
          "height": 63,
          "referenced_widgets": [
            "62906186a2af4b0898cfeda56b461fa2",
            "fd9489b007b046029774d61d1d19dcda",
            "219ceb790091443fbb7f384735d54ee2"
          ]
        },
        "cellView": "form",
        "outputId": "f44c2a68-656c-46dc-a014-fc93b3e998ff"
      },
      "outputs": [
        {
          "output_type": "display_data",
          "data": {
            "text/plain": [
              "Textarea(value='', description='Performance Metrics Explanation:', layout=Layout(height='100%', width='auto'),…"
            ],
            "application/vnd.jupyter.widget-view+json": {
              "version_major": 2,
              "version_minor": 0,
              "model_id": "62906186a2af4b0898cfeda56b461fa2"
            }
          },
          "metadata": {}
        }
      ],
      "source": [
        "# @title Performance Metrics Explanation\n",
        "\n",
        "wgt_perf_metrics_explanation = widgets.Textarea(\n",
        "    value=None,\n",
        "    placeholder='<student to fill this section>',\n",
        "    description='Performance Metrics Explanation:',\n",
        "    disabled=False,\n",
        "    style={'description_width': 'initial'},\n",
        "    layout=widgets.Layout(height=\"100%\", width=\"auto\")\n",
        ")\n",
        "wgt_perf_metrics_explanation"
      ]
    },
    {
      "cell_type": "markdown",
      "source": [
        "### I.3 Baseline Model Performance\n",
        "\n",
        "> Provide some explanations on model performance\n"
      ],
      "metadata": {
        "id": "q43YtqpdeniY"
      }
    },
    {
      "cell_type": "code",
      "execution_count": null,
      "metadata": {
        "id": "x1Q3oxoNhez5"
      },
      "outputs": [],
      "source": [
        "# <Student to fill this section>"
      ]
    },
    {
      "cell_type": "code",
      "execution_count": null,
      "metadata": {
        "id": "osp7Ura2hez5",
        "colab": {
          "base_uri": "https://localhost:8080/",
          "height": 63,
          "referenced_widgets": [
            "c197e514a7904bd3b78ffca51a7b0888",
            "92e5c0e04f74425daaed3554e6dcf371",
            "d99eed93339447a482f9d32c548d5317"
          ]
        },
        "cellView": "form",
        "outputId": "a5056d1f-a0f9-45c8-9ccb-31eb52cba5ef"
      },
      "outputs": [
        {
          "output_type": "display_data",
          "data": {
            "text/plain": [
              "Textarea(value='', description='Model Performance Explanation:', layout=Layout(height='100%', width='auto'), p…"
            ],
            "application/vnd.jupyter.widget-view+json": {
              "version_major": 2,
              "version_minor": 0,
              "model_id": "c197e514a7904bd3b78ffca51a7b0888"
            }
          },
          "metadata": {}
        }
      ],
      "source": [
        "# @title Performance Metrics Explanation\n",
        "\n",
        "wgt_model_performance_explanation = widgets.Textarea(\n",
        "    value=None,\n",
        "    placeholder='<student to fill this section>',\n",
        "    description='Model Performance Explanation:',\n",
        "    disabled=False,\n",
        "    style={'description_width': 'initial'},\n",
        "    layout=widgets.Layout(height=\"100%\", width=\"auto\")\n",
        ")\n",
        "wgt_model_performance_explanation"
      ]
    }
  ],
  "metadata": {
    "colab": {
      "provenance": [],
      "toc_visible": true
    },
    "kernelspec": {
      "display_name": "Python 3 (ipykernel)",
      "language": "python",
      "name": "python3"
    },
    "language_info": {
      "codemirror_mode": {
        "name": "ipython",
        "version": 3
      },
      "file_extension": ".py",
      "mimetype": "text/x-python",
      "name": "python",
      "nbconvert_exporter": "python",
      "pygments_lexer": "ipython3",
      "version": "3.10.10"
    },
    "widgets": {
      "application/vnd.jupyter.widget-state+json": {
        "bfd4fcd4140b49f382c48ec8e7ca243d": {
          "model_module": "@jupyter-widgets/controls",
          "model_name": "HBoxModel",
          "model_module_version": "1.5.0",
          "state": {
            "_dom_classes": [],
            "_model_module": "@jupyter-widgets/controls",
            "_model_module_version": "1.5.0",
            "_model_name": "HBoxModel",
            "_view_count": null,
            "_view_module": "@jupyter-widgets/controls",
            "_view_module_version": "1.5.0",
            "_view_name": "HBoxView",
            "box_style": "",
            "children": [
              "IPY_MODEL_fa9bb37e05404c219b8c852357fd3eef",
              "IPY_MODEL_53bc00ded84b4633817989f794a03dab"
            ],
            "layout": "IPY_MODEL_41862230df4147f180d56536c77041a4"
          }
        },
        "fa9bb37e05404c219b8c852357fd3eef": {
          "model_module": "@jupyter-widgets/controls",
          "model_name": "TextModel",
          "model_module_version": "1.5.0",
          "state": {
            "_dom_classes": [],
            "_model_module": "@jupyter-widgets/controls",
            "_model_module_version": "1.5.0",
            "_model_name": "TextModel",
            "_view_count": null,
            "_view_module": "@jupyter-widgets/controls",
            "_view_module_version": "1.5.0",
            "_view_name": "TextView",
            "continuous_update": true,
            "description": "Student Name:",
            "description_tooltip": null,
            "disabled": false,
            "layout": "IPY_MODEL_f17b494632ca4026a31996c18963841c",
            "placeholder": "<student to fill this section>",
            "style": "IPY_MODEL_97f52adcb17b4cc28defb1025eaa405a",
            "value": ""
          }
        },
        "53bc00ded84b4633817989f794a03dab": {
          "model_module": "@jupyter-widgets/controls",
          "model_name": "TextModel",
          "model_module_version": "1.5.0",
          "state": {
            "_dom_classes": [],
            "_model_module": "@jupyter-widgets/controls",
            "_model_module_version": "1.5.0",
            "_model_name": "TextModel",
            "_view_count": null,
            "_view_module": "@jupyter-widgets/controls",
            "_view_module_version": "1.5.0",
            "_view_name": "TextView",
            "continuous_update": true,
            "description": "Student Id:",
            "description_tooltip": null,
            "disabled": false,
            "layout": "IPY_MODEL_928fb254b02c4da682e429366d4d1789",
            "placeholder": "<student to fill this section>",
            "style": "IPY_MODEL_9f1903fe92224ebc9f9b279b9a4bf9c8",
            "value": ""
          }
        },
        "41862230df4147f180d56536c77041a4": {
          "model_module": "@jupyter-widgets/base",
          "model_name": "LayoutModel",
          "model_module_version": "1.2.0",
          "state": {
            "_model_module": "@jupyter-widgets/base",
            "_model_module_version": "1.2.0",
            "_model_name": "LayoutModel",
            "_view_count": null,
            "_view_module": "@jupyter-widgets/base",
            "_view_module_version": "1.2.0",
            "_view_name": "LayoutView",
            "align_content": null,
            "align_items": null,
            "align_self": null,
            "border": null,
            "bottom": null,
            "display": null,
            "flex": null,
            "flex_flow": null,
            "grid_area": null,
            "grid_auto_columns": null,
            "grid_auto_flow": null,
            "grid_auto_rows": null,
            "grid_column": null,
            "grid_gap": null,
            "grid_row": null,
            "grid_template_areas": null,
            "grid_template_columns": null,
            "grid_template_rows": null,
            "height": null,
            "justify_content": null,
            "justify_items": null,
            "left": null,
            "margin": null,
            "max_height": null,
            "max_width": null,
            "min_height": null,
            "min_width": null,
            "object_fit": null,
            "object_position": null,
            "order": null,
            "overflow": null,
            "overflow_x": null,
            "overflow_y": null,
            "padding": null,
            "right": null,
            "top": null,
            "visibility": null,
            "width": null
          }
        },
        "f17b494632ca4026a31996c18963841c": {
          "model_module": "@jupyter-widgets/base",
          "model_name": "LayoutModel",
          "model_module_version": "1.2.0",
          "state": {
            "_model_module": "@jupyter-widgets/base",
            "_model_module_version": "1.2.0",
            "_model_name": "LayoutModel",
            "_view_count": null,
            "_view_module": "@jupyter-widgets/base",
            "_view_module_version": "1.2.0",
            "_view_name": "LayoutView",
            "align_content": null,
            "align_items": null,
            "align_self": null,
            "border": null,
            "bottom": null,
            "display": null,
            "flex": null,
            "flex_flow": null,
            "grid_area": null,
            "grid_auto_columns": null,
            "grid_auto_flow": null,
            "grid_auto_rows": null,
            "grid_column": null,
            "grid_gap": null,
            "grid_row": null,
            "grid_template_areas": null,
            "grid_template_columns": null,
            "grid_template_rows": null,
            "height": null,
            "justify_content": null,
            "justify_items": null,
            "left": null,
            "margin": null,
            "max_height": null,
            "max_width": null,
            "min_height": null,
            "min_width": null,
            "object_fit": null,
            "object_position": null,
            "order": null,
            "overflow": null,
            "overflow_x": null,
            "overflow_y": null,
            "padding": null,
            "right": null,
            "top": null,
            "visibility": null,
            "width": null
          }
        },
        "97f52adcb17b4cc28defb1025eaa405a": {
          "model_module": "@jupyter-widgets/controls",
          "model_name": "DescriptionStyleModel",
          "model_module_version": "1.5.0",
          "state": {
            "_model_module": "@jupyter-widgets/controls",
            "_model_module_version": "1.5.0",
            "_model_name": "DescriptionStyleModel",
            "_view_count": null,
            "_view_module": "@jupyter-widgets/base",
            "_view_module_version": "1.2.0",
            "_view_name": "StyleView",
            "description_width": "initial"
          }
        },
        "928fb254b02c4da682e429366d4d1789": {
          "model_module": "@jupyter-widgets/base",
          "model_name": "LayoutModel",
          "model_module_version": "1.2.0",
          "state": {
            "_model_module": "@jupyter-widgets/base",
            "_model_module_version": "1.2.0",
            "_model_name": "LayoutModel",
            "_view_count": null,
            "_view_module": "@jupyter-widgets/base",
            "_view_module_version": "1.2.0",
            "_view_name": "LayoutView",
            "align_content": null,
            "align_items": null,
            "align_self": null,
            "border": null,
            "bottom": null,
            "display": null,
            "flex": null,
            "flex_flow": null,
            "grid_area": null,
            "grid_auto_columns": null,
            "grid_auto_flow": null,
            "grid_auto_rows": null,
            "grid_column": null,
            "grid_gap": null,
            "grid_row": null,
            "grid_template_areas": null,
            "grid_template_columns": null,
            "grid_template_rows": null,
            "height": null,
            "justify_content": null,
            "justify_items": null,
            "left": null,
            "margin": null,
            "max_height": null,
            "max_width": null,
            "min_height": null,
            "min_width": null,
            "object_fit": null,
            "object_position": null,
            "order": null,
            "overflow": null,
            "overflow_x": null,
            "overflow_y": null,
            "padding": null,
            "right": null,
            "top": null,
            "visibility": null,
            "width": null
          }
        },
        "9f1903fe92224ebc9f9b279b9a4bf9c8": {
          "model_module": "@jupyter-widgets/controls",
          "model_name": "DescriptionStyleModel",
          "model_module_version": "1.5.0",
          "state": {
            "_model_module": "@jupyter-widgets/controls",
            "_model_module_version": "1.5.0",
            "_model_name": "DescriptionStyleModel",
            "_view_count": null,
            "_view_module": "@jupyter-widgets/base",
            "_view_module_version": "1.2.0",
            "_view_name": "StyleView",
            "description_width": "initial"
          }
        },
        "189f81f1687e400087ef63f5716d4217": {
          "model_module": "@jupyter-widgets/controls",
          "model_name": "BoundedIntTextModel",
          "model_module_version": "1.5.0",
          "state": {
            "_dom_classes": [],
            "_model_module": "@jupyter-widgets/controls",
            "_model_module_version": "1.5.0",
            "_model_name": "BoundedIntTextModel",
            "_view_count": null,
            "_view_module": "@jupyter-widgets/controls",
            "_view_module_version": "1.5.0",
            "_view_name": "IntTextView",
            "continuous_update": false,
            "description": "Experiment ID:",
            "description_tooltip": null,
            "disabled": false,
            "layout": "IPY_MODEL_ab20bf58a4814741995230fc23b44feb",
            "max": 3,
            "min": 0,
            "step": 1,
            "style": "IPY_MODEL_433ee358109d4283995f6b7675fc8164",
            "value": 0
          }
        },
        "ab20bf58a4814741995230fc23b44feb": {
          "model_module": "@jupyter-widgets/base",
          "model_name": "LayoutModel",
          "model_module_version": "1.2.0",
          "state": {
            "_model_module": "@jupyter-widgets/base",
            "_model_module_version": "1.2.0",
            "_model_name": "LayoutModel",
            "_view_count": null,
            "_view_module": "@jupyter-widgets/base",
            "_view_module_version": "1.2.0",
            "_view_name": "LayoutView",
            "align_content": null,
            "align_items": null,
            "align_self": null,
            "border": null,
            "bottom": null,
            "display": null,
            "flex": null,
            "flex_flow": null,
            "grid_area": null,
            "grid_auto_columns": null,
            "grid_auto_flow": null,
            "grid_auto_rows": null,
            "grid_column": null,
            "grid_gap": null,
            "grid_row": null,
            "grid_template_areas": null,
            "grid_template_columns": null,
            "grid_template_rows": null,
            "height": null,
            "justify_content": null,
            "justify_items": null,
            "left": null,
            "margin": null,
            "max_height": null,
            "max_width": null,
            "min_height": null,
            "min_width": null,
            "object_fit": null,
            "object_position": null,
            "order": null,
            "overflow": null,
            "overflow_x": null,
            "overflow_y": null,
            "padding": null,
            "right": null,
            "top": null,
            "visibility": null,
            "width": null
          }
        },
        "433ee358109d4283995f6b7675fc8164": {
          "model_module": "@jupyter-widgets/controls",
          "model_name": "DescriptionStyleModel",
          "model_module_version": "1.5.0",
          "state": {
            "_model_module": "@jupyter-widgets/controls",
            "_model_module_version": "1.5.0",
            "_model_name": "DescriptionStyleModel",
            "_view_count": null,
            "_view_module": "@jupyter-widgets/base",
            "_view_module_version": "1.2.0",
            "_view_name": "StyleView",
            "description_width": "initial"
          }
        },
        "4d7e61b0713c4df2ae2ea3e96e855282": {
          "model_module": "@jupyter-widgets/controls",
          "model_name": "TextareaModel",
          "model_module_version": "1.5.0",
          "state": {
            "_dom_classes": [],
            "_model_module": "@jupyter-widgets/controls",
            "_model_module_version": "1.5.0",
            "_model_name": "TextareaModel",
            "_view_count": null,
            "_view_module": "@jupyter-widgets/controls",
            "_view_module_version": "1.5.0",
            "_view_name": "TextareaView",
            "continuous_update": true,
            "description": "Business Objective:",
            "description_tooltip": null,
            "disabled": false,
            "layout": "IPY_MODEL_8fd00c81d5094900b2e22e9359d0c61d",
            "placeholder": "<student to fill this section>",
            "rows": null,
            "style": "IPY_MODEL_422789c08b0d43e491befed47fecd3b5",
            "value": ""
          }
        },
        "8fd00c81d5094900b2e22e9359d0c61d": {
          "model_module": "@jupyter-widgets/base",
          "model_name": "LayoutModel",
          "model_module_version": "1.2.0",
          "state": {
            "_model_module": "@jupyter-widgets/base",
            "_model_module_version": "1.2.0",
            "_model_name": "LayoutModel",
            "_view_count": null,
            "_view_module": "@jupyter-widgets/base",
            "_view_module_version": "1.2.0",
            "_view_name": "LayoutView",
            "align_content": null,
            "align_items": null,
            "align_self": null,
            "border": null,
            "bottom": null,
            "display": null,
            "flex": null,
            "flex_flow": null,
            "grid_area": null,
            "grid_auto_columns": null,
            "grid_auto_flow": null,
            "grid_auto_rows": null,
            "grid_column": null,
            "grid_gap": null,
            "grid_row": null,
            "grid_template_areas": null,
            "grid_template_columns": null,
            "grid_template_rows": null,
            "height": "100%",
            "justify_content": null,
            "justify_items": null,
            "left": null,
            "margin": null,
            "max_height": null,
            "max_width": null,
            "min_height": null,
            "min_width": null,
            "object_fit": null,
            "object_position": null,
            "order": null,
            "overflow": null,
            "overflow_x": null,
            "overflow_y": null,
            "padding": null,
            "right": null,
            "top": null,
            "visibility": null,
            "width": "auto"
          }
        },
        "422789c08b0d43e491befed47fecd3b5": {
          "model_module": "@jupyter-widgets/controls",
          "model_name": "DescriptionStyleModel",
          "model_module_version": "1.5.0",
          "state": {
            "_model_module": "@jupyter-widgets/controls",
            "_model_module_version": "1.5.0",
            "_model_name": "DescriptionStyleModel",
            "_view_count": null,
            "_view_module": "@jupyter-widgets/base",
            "_view_module_version": "1.2.0",
            "_view_name": "StyleView",
            "description_width": "initial"
          }
        },
        "de7879db7cf84c7687e25393bed98c32": {
          "model_module": "@jupyter-widgets/controls",
          "model_name": "TextareaModel",
          "model_module_version": "1.5.0",
          "state": {
            "_dom_classes": [],
            "_model_module": "@jupyter-widgets/controls",
            "_model_module_version": "1.5.0",
            "_model_name": "TextareaModel",
            "_view_count": null,
            "_view_module": "@jupyter-widgets/controls",
            "_view_module_version": "1.5.0",
            "_view_name": "TextareaView",
            "continuous_update": true,
            "description": "Experiment Hypothesis:",
            "description_tooltip": null,
            "disabled": false,
            "layout": "IPY_MODEL_4d25c7675f894f7ca9690bfc1495540e",
            "placeholder": "<student to fill this section>",
            "rows": null,
            "style": "IPY_MODEL_3e92768f0bd6424aaef78b48e2555f8b",
            "value": ""
          }
        },
        "4d25c7675f894f7ca9690bfc1495540e": {
          "model_module": "@jupyter-widgets/base",
          "model_name": "LayoutModel",
          "model_module_version": "1.2.0",
          "state": {
            "_model_module": "@jupyter-widgets/base",
            "_model_module_version": "1.2.0",
            "_model_name": "LayoutModel",
            "_view_count": null,
            "_view_module": "@jupyter-widgets/base",
            "_view_module_version": "1.2.0",
            "_view_name": "LayoutView",
            "align_content": null,
            "align_items": null,
            "align_self": null,
            "border": null,
            "bottom": null,
            "display": null,
            "flex": null,
            "flex_flow": null,
            "grid_area": null,
            "grid_auto_columns": null,
            "grid_auto_flow": null,
            "grid_auto_rows": null,
            "grid_column": null,
            "grid_gap": null,
            "grid_row": null,
            "grid_template_areas": null,
            "grid_template_columns": null,
            "grid_template_rows": null,
            "height": "100%",
            "justify_content": null,
            "justify_items": null,
            "left": null,
            "margin": null,
            "max_height": null,
            "max_width": null,
            "min_height": null,
            "min_width": null,
            "object_fit": null,
            "object_position": null,
            "order": null,
            "overflow": null,
            "overflow_x": null,
            "overflow_y": null,
            "padding": null,
            "right": null,
            "top": null,
            "visibility": null,
            "width": "auto"
          }
        },
        "3e92768f0bd6424aaef78b48e2555f8b": {
          "model_module": "@jupyter-widgets/controls",
          "model_name": "DescriptionStyleModel",
          "model_module_version": "1.5.0",
          "state": {
            "_model_module": "@jupyter-widgets/controls",
            "_model_module_version": "1.5.0",
            "_model_name": "DescriptionStyleModel",
            "_view_count": null,
            "_view_module": "@jupyter-widgets/base",
            "_view_module_version": "1.2.0",
            "_view_name": "StyleView",
            "description_width": "initial"
          }
        },
        "5c2d7091a41e4295a47c69c50e713702": {
          "model_module": "@jupyter-widgets/controls",
          "model_name": "TextareaModel",
          "model_module_version": "1.5.0",
          "state": {
            "_dom_classes": [],
            "_model_module": "@jupyter-widgets/controls",
            "_model_module_version": "1.5.0",
            "_model_name": "TextareaModel",
            "_view_count": null,
            "_view_module": "@jupyter-widgets/controls",
            "_view_module_version": "1.5.0",
            "_view_name": "TextareaView",
            "continuous_update": true,
            "description": "Experiment Expectations:",
            "description_tooltip": null,
            "disabled": false,
            "layout": "IPY_MODEL_5965f53bfe694dc3bdb66fd5330878ce",
            "placeholder": "<student to fill this section>",
            "rows": null,
            "style": "IPY_MODEL_fbd97c3345e449fbbede7366e5770724",
            "value": ""
          }
        },
        "5965f53bfe694dc3bdb66fd5330878ce": {
          "model_module": "@jupyter-widgets/base",
          "model_name": "LayoutModel",
          "model_module_version": "1.2.0",
          "state": {
            "_model_module": "@jupyter-widgets/base",
            "_model_module_version": "1.2.0",
            "_model_name": "LayoutModel",
            "_view_count": null,
            "_view_module": "@jupyter-widgets/base",
            "_view_module_version": "1.2.0",
            "_view_name": "LayoutView",
            "align_content": null,
            "align_items": null,
            "align_self": null,
            "border": null,
            "bottom": null,
            "display": null,
            "flex": null,
            "flex_flow": null,
            "grid_area": null,
            "grid_auto_columns": null,
            "grid_auto_flow": null,
            "grid_auto_rows": null,
            "grid_column": null,
            "grid_gap": null,
            "grid_row": null,
            "grid_template_areas": null,
            "grid_template_columns": null,
            "grid_template_rows": null,
            "height": "100%",
            "justify_content": null,
            "justify_items": null,
            "left": null,
            "margin": null,
            "max_height": null,
            "max_width": null,
            "min_height": null,
            "min_width": null,
            "object_fit": null,
            "object_position": null,
            "order": null,
            "overflow": null,
            "overflow_x": null,
            "overflow_y": null,
            "padding": null,
            "right": null,
            "top": null,
            "visibility": null,
            "width": "auto"
          }
        },
        "fbd97c3345e449fbbede7366e5770724": {
          "model_module": "@jupyter-widgets/controls",
          "model_name": "DescriptionStyleModel",
          "model_module_version": "1.5.0",
          "state": {
            "_model_module": "@jupyter-widgets/controls",
            "_model_module_version": "1.5.0",
            "_model_name": "DescriptionStyleModel",
            "_view_count": null,
            "_view_module": "@jupyter-widgets/base",
            "_view_module_version": "1.2.0",
            "_view_name": "StyleView",
            "description_width": "initial"
          }
        },
        "074005cfc308472d88a79555309b4583": {
          "model_module": "@jupyter-widgets/controls",
          "model_name": "TextareaModel",
          "model_module_version": "1.5.0",
          "state": {
            "_dom_classes": [],
            "_model_module": "@jupyter-widgets/controls",
            "_model_module_version": "1.5.0",
            "_model_name": "TextareaModel",
            "_view_count": null,
            "_view_module": "@jupyter-widgets/controls",
            "_view_module_version": "1.5.0",
            "_view_name": "TextareaView",
            "continuous_update": true,
            "description": "Training Set Insights:",
            "description_tooltip": null,
            "disabled": false,
            "layout": "IPY_MODEL_860f23016dd64452b664185aacc28296",
            "placeholder": "<student to fill this section>",
            "rows": null,
            "style": "IPY_MODEL_5a60850e28724e5b8d70dfaaafca544f",
            "value": ""
          }
        },
        "860f23016dd64452b664185aacc28296": {
          "model_module": "@jupyter-widgets/base",
          "model_name": "LayoutModel",
          "model_module_version": "1.2.0",
          "state": {
            "_model_module": "@jupyter-widgets/base",
            "_model_module_version": "1.2.0",
            "_model_name": "LayoutModel",
            "_view_count": null,
            "_view_module": "@jupyter-widgets/base",
            "_view_module_version": "1.2.0",
            "_view_name": "LayoutView",
            "align_content": null,
            "align_items": null,
            "align_self": null,
            "border": null,
            "bottom": null,
            "display": null,
            "flex": null,
            "flex_flow": null,
            "grid_area": null,
            "grid_auto_columns": null,
            "grid_auto_flow": null,
            "grid_auto_rows": null,
            "grid_column": null,
            "grid_gap": null,
            "grid_row": null,
            "grid_template_areas": null,
            "grid_template_columns": null,
            "grid_template_rows": null,
            "height": "100%",
            "justify_content": null,
            "justify_items": null,
            "left": null,
            "margin": null,
            "max_height": null,
            "max_width": null,
            "min_height": null,
            "min_width": null,
            "object_fit": null,
            "object_position": null,
            "order": null,
            "overflow": null,
            "overflow_x": null,
            "overflow_y": null,
            "padding": null,
            "right": null,
            "top": null,
            "visibility": null,
            "width": "auto"
          }
        },
        "5a60850e28724e5b8d70dfaaafca544f": {
          "model_module": "@jupyter-widgets/controls",
          "model_name": "DescriptionStyleModel",
          "model_module_version": "1.5.0",
          "state": {
            "_model_module": "@jupyter-widgets/controls",
            "_model_module_version": "1.5.0",
            "_model_name": "DescriptionStyleModel",
            "_view_count": null,
            "_view_module": "@jupyter-widgets/base",
            "_view_module_version": "1.2.0",
            "_view_name": "StyleView",
            "description_width": "initial"
          }
        },
        "0d03af02f534402298e99c0fd12c1b62": {
          "model_module": "@jupyter-widgets/controls",
          "model_name": "TextareaModel",
          "model_module_version": "1.5.0",
          "state": {
            "_dom_classes": [],
            "_model_module": "@jupyter-widgets/controls",
            "_model_module_version": "1.5.0",
            "_model_name": "TextareaModel",
            "_view_count": null,
            "_view_module": "@jupyter-widgets/controls",
            "_view_module_version": "1.5.0",
            "_view_name": "TextareaView",
            "continuous_update": true,
            "description": "Validation Set Insights:",
            "description_tooltip": null,
            "disabled": false,
            "layout": "IPY_MODEL_393cacf10dd5422587725f98b63885e5",
            "placeholder": "<student to fill this section>",
            "rows": null,
            "style": "IPY_MODEL_9ca71f9c4b994dc4bba48d6769980b2c",
            "value": ""
          }
        },
        "393cacf10dd5422587725f98b63885e5": {
          "model_module": "@jupyter-widgets/base",
          "model_name": "LayoutModel",
          "model_module_version": "1.2.0",
          "state": {
            "_model_module": "@jupyter-widgets/base",
            "_model_module_version": "1.2.0",
            "_model_name": "LayoutModel",
            "_view_count": null,
            "_view_module": "@jupyter-widgets/base",
            "_view_module_version": "1.2.0",
            "_view_name": "LayoutView",
            "align_content": null,
            "align_items": null,
            "align_self": null,
            "border": null,
            "bottom": null,
            "display": null,
            "flex": null,
            "flex_flow": null,
            "grid_area": null,
            "grid_auto_columns": null,
            "grid_auto_flow": null,
            "grid_auto_rows": null,
            "grid_column": null,
            "grid_gap": null,
            "grid_row": null,
            "grid_template_areas": null,
            "grid_template_columns": null,
            "grid_template_rows": null,
            "height": "100%",
            "justify_content": null,
            "justify_items": null,
            "left": null,
            "margin": null,
            "max_height": null,
            "max_width": null,
            "min_height": null,
            "min_width": null,
            "object_fit": null,
            "object_position": null,
            "order": null,
            "overflow": null,
            "overflow_x": null,
            "overflow_y": null,
            "padding": null,
            "right": null,
            "top": null,
            "visibility": null,
            "width": "auto"
          }
        },
        "9ca71f9c4b994dc4bba48d6769980b2c": {
          "model_module": "@jupyter-widgets/controls",
          "model_name": "DescriptionStyleModel",
          "model_module_version": "1.5.0",
          "state": {
            "_model_module": "@jupyter-widgets/controls",
            "_model_module_version": "1.5.0",
            "_model_name": "DescriptionStyleModel",
            "_view_count": null,
            "_view_module": "@jupyter-widgets/base",
            "_view_module_version": "1.2.0",
            "_view_name": "StyleView",
            "description_width": "initial"
          }
        },
        "1730b09b33e34f90b5c465373443f732": {
          "model_module": "@jupyter-widgets/controls",
          "model_name": "TextareaModel",
          "model_module_version": "1.5.0",
          "state": {
            "_dom_classes": [],
            "_model_module": "@jupyter-widgets/controls",
            "_model_module_version": "1.5.0",
            "_model_name": "TextareaModel",
            "_view_count": null,
            "_view_module": "@jupyter-widgets/controls",
            "_view_module_version": "1.5.0",
            "_view_name": "TextareaView",
            "continuous_update": true,
            "description": "Testing Set Insights:",
            "description_tooltip": null,
            "disabled": false,
            "layout": "IPY_MODEL_aa20fc4267bb4e8b91f6f1bf1a24e944",
            "placeholder": "<student to fill this section>",
            "rows": null,
            "style": "IPY_MODEL_2e1751ea627a447c9db6cc94e5fd00a2",
            "value": ""
          }
        },
        "aa20fc4267bb4e8b91f6f1bf1a24e944": {
          "model_module": "@jupyter-widgets/base",
          "model_name": "LayoutModel",
          "model_module_version": "1.2.0",
          "state": {
            "_model_module": "@jupyter-widgets/base",
            "_model_module_version": "1.2.0",
            "_model_name": "LayoutModel",
            "_view_count": null,
            "_view_module": "@jupyter-widgets/base",
            "_view_module_version": "1.2.0",
            "_view_name": "LayoutView",
            "align_content": null,
            "align_items": null,
            "align_self": null,
            "border": null,
            "bottom": null,
            "display": null,
            "flex": null,
            "flex_flow": null,
            "grid_area": null,
            "grid_auto_columns": null,
            "grid_auto_flow": null,
            "grid_auto_rows": null,
            "grid_column": null,
            "grid_gap": null,
            "grid_row": null,
            "grid_template_areas": null,
            "grid_template_columns": null,
            "grid_template_rows": null,
            "height": "100%",
            "justify_content": null,
            "justify_items": null,
            "left": null,
            "margin": null,
            "max_height": null,
            "max_width": null,
            "min_height": null,
            "min_width": null,
            "object_fit": null,
            "object_position": null,
            "order": null,
            "overflow": null,
            "overflow_x": null,
            "overflow_y": null,
            "padding": null,
            "right": null,
            "top": null,
            "visibility": null,
            "width": "auto"
          }
        },
        "2e1751ea627a447c9db6cc94e5fd00a2": {
          "model_module": "@jupyter-widgets/controls",
          "model_name": "DescriptionStyleModel",
          "model_module_version": "1.5.0",
          "state": {
            "_model_module": "@jupyter-widgets/controls",
            "_model_module_version": "1.5.0",
            "_model_name": "DescriptionStyleModel",
            "_view_count": null,
            "_view_module": "@jupyter-widgets/base",
            "_view_module_version": "1.2.0",
            "_view_name": "StyleView",
            "description_width": "initial"
          }
        },
        "39394e859b394a9b9b95b063feac28cd": {
          "model_module": "@jupyter-widgets/controls",
          "model_name": "TextareaModel",
          "model_module_version": "1.5.0",
          "state": {
            "_dom_classes": [],
            "_model_module": "@jupyter-widgets/controls",
            "_model_module_version": "1.5.0",
            "_model_name": "TextareaModel",
            "_view_count": null,
            "_view_module": "@jupyter-widgets/controls",
            "_view_module_version": "1.5.0",
            "_view_name": "TextareaView",
            "continuous_update": true,
            "description": "Target Variable Insights:",
            "description_tooltip": null,
            "disabled": false,
            "layout": "IPY_MODEL_a3ce204207c44e8faa44c4cd93f44f32",
            "placeholder": "<student to fill this section>",
            "rows": null,
            "style": "IPY_MODEL_a4ed206573ff49af9d9bd74bd25f2257",
            "value": ""
          }
        },
        "a3ce204207c44e8faa44c4cd93f44f32": {
          "model_module": "@jupyter-widgets/base",
          "model_name": "LayoutModel",
          "model_module_version": "1.2.0",
          "state": {
            "_model_module": "@jupyter-widgets/base",
            "_model_module_version": "1.2.0",
            "_model_name": "LayoutModel",
            "_view_count": null,
            "_view_module": "@jupyter-widgets/base",
            "_view_module_version": "1.2.0",
            "_view_name": "LayoutView",
            "align_content": null,
            "align_items": null,
            "align_self": null,
            "border": null,
            "bottom": null,
            "display": null,
            "flex": null,
            "flex_flow": null,
            "grid_area": null,
            "grid_auto_columns": null,
            "grid_auto_flow": null,
            "grid_auto_rows": null,
            "grid_column": null,
            "grid_gap": null,
            "grid_row": null,
            "grid_template_areas": null,
            "grid_template_columns": null,
            "grid_template_rows": null,
            "height": "100%",
            "justify_content": null,
            "justify_items": null,
            "left": null,
            "margin": null,
            "max_height": null,
            "max_width": null,
            "min_height": null,
            "min_width": null,
            "object_fit": null,
            "object_position": null,
            "order": null,
            "overflow": null,
            "overflow_x": null,
            "overflow_y": null,
            "padding": null,
            "right": null,
            "top": null,
            "visibility": null,
            "width": "auto"
          }
        },
        "a4ed206573ff49af9d9bd74bd25f2257": {
          "model_module": "@jupyter-widgets/controls",
          "model_name": "DescriptionStyleModel",
          "model_module_version": "1.5.0",
          "state": {
            "_model_module": "@jupyter-widgets/controls",
            "_model_module_version": "1.5.0",
            "_model_name": "DescriptionStyleModel",
            "_view_count": null,
            "_view_module": "@jupyter-widgets/base",
            "_view_module_version": "1.2.0",
            "_view_name": "StyleView",
            "description_width": "initial"
          }
        },
        "dea1fd9c0bf8475c97bb52a2c4d567e8": {
          "model_module": "@jupyter-widgets/controls",
          "model_name": "TextareaModel",
          "model_module_version": "1.5.0",
          "state": {
            "_dom_classes": [],
            "_model_module": "@jupyter-widgets/controls",
            "_model_module_version": "1.5.0",
            "_model_name": "TextareaModel",
            "_view_count": null,
            "_view_module": "@jupyter-widgets/controls",
            "_view_module_version": "1.5.0",
            "_view_name": "TextareaView",
            "continuous_update": true,
            "description": "Feature Insights:",
            "description_tooltip": null,
            "disabled": false,
            "layout": "IPY_MODEL_058bd3204ea446e6bd9b6705aa7fd4c6",
            "placeholder": "<student to fill this section>",
            "rows": null,
            "style": "IPY_MODEL_d2f811c1222b4c7e8abbd8e703b2d756",
            "value": ""
          }
        },
        "058bd3204ea446e6bd9b6705aa7fd4c6": {
          "model_module": "@jupyter-widgets/base",
          "model_name": "LayoutModel",
          "model_module_version": "1.2.0",
          "state": {
            "_model_module": "@jupyter-widgets/base",
            "_model_module_version": "1.2.0",
            "_model_name": "LayoutModel",
            "_view_count": null,
            "_view_module": "@jupyter-widgets/base",
            "_view_module_version": "1.2.0",
            "_view_name": "LayoutView",
            "align_content": null,
            "align_items": null,
            "align_self": null,
            "border": null,
            "bottom": null,
            "display": null,
            "flex": null,
            "flex_flow": null,
            "grid_area": null,
            "grid_auto_columns": null,
            "grid_auto_flow": null,
            "grid_auto_rows": null,
            "grid_column": null,
            "grid_gap": null,
            "grid_row": null,
            "grid_template_areas": null,
            "grid_template_columns": null,
            "grid_template_rows": null,
            "height": "100%",
            "justify_content": null,
            "justify_items": null,
            "left": null,
            "margin": null,
            "max_height": null,
            "max_width": null,
            "min_height": null,
            "min_width": null,
            "object_fit": null,
            "object_position": null,
            "order": null,
            "overflow": null,
            "overflow_x": null,
            "overflow_y": null,
            "padding": null,
            "right": null,
            "top": null,
            "visibility": null,
            "width": "auto"
          }
        },
        "d2f811c1222b4c7e8abbd8e703b2d756": {
          "model_module": "@jupyter-widgets/controls",
          "model_name": "DescriptionStyleModel",
          "model_module_version": "1.5.0",
          "state": {
            "_model_module": "@jupyter-widgets/controls",
            "_model_module_version": "1.5.0",
            "_model_name": "DescriptionStyleModel",
            "_view_count": null,
            "_view_module": "@jupyter-widgets/base",
            "_view_module_version": "1.2.0",
            "_view_name": "StyleView",
            "description_width": "initial"
          }
        },
        "26bdaca80a114c3493849b238d5c52fb": {
          "model_module": "@jupyter-widgets/controls",
          "model_name": "TextareaModel",
          "model_module_version": "1.5.0",
          "state": {
            "_dom_classes": [],
            "_model_module": "@jupyter-widgets/controls",
            "_model_module_version": "1.5.0",
            "_model_name": "TextareaModel",
            "_view_count": null,
            "_view_module": "@jupyter-widgets/controls",
            "_view_module_version": "1.5.0",
            "_view_name": "TextareaView",
            "continuous_update": true,
            "description": "Feature Selection 1:",
            "description_tooltip": null,
            "disabled": false,
            "layout": "IPY_MODEL_767b863a8eb64b58948fc1231798a38e",
            "placeholder": "<student to fill this section>",
            "rows": null,
            "style": "IPY_MODEL_d540ddc658bb48d4ae3df37fca18f14a",
            "value": ""
          }
        },
        "767b863a8eb64b58948fc1231798a38e": {
          "model_module": "@jupyter-widgets/base",
          "model_name": "LayoutModel",
          "model_module_version": "1.2.0",
          "state": {
            "_model_module": "@jupyter-widgets/base",
            "_model_module_version": "1.2.0",
            "_model_name": "LayoutModel",
            "_view_count": null,
            "_view_module": "@jupyter-widgets/base",
            "_view_module_version": "1.2.0",
            "_view_name": "LayoutView",
            "align_content": null,
            "align_items": null,
            "align_self": null,
            "border": null,
            "bottom": null,
            "display": null,
            "flex": null,
            "flex_flow": null,
            "grid_area": null,
            "grid_auto_columns": null,
            "grid_auto_flow": null,
            "grid_auto_rows": null,
            "grid_column": null,
            "grid_gap": null,
            "grid_row": null,
            "grid_template_areas": null,
            "grid_template_columns": null,
            "grid_template_rows": null,
            "height": "100%",
            "justify_content": null,
            "justify_items": null,
            "left": null,
            "margin": null,
            "max_height": null,
            "max_width": null,
            "min_height": null,
            "min_width": null,
            "object_fit": null,
            "object_position": null,
            "order": null,
            "overflow": null,
            "overflow_x": null,
            "overflow_y": null,
            "padding": null,
            "right": null,
            "top": null,
            "visibility": null,
            "width": "auto"
          }
        },
        "d540ddc658bb48d4ae3df37fca18f14a": {
          "model_module": "@jupyter-widgets/controls",
          "model_name": "DescriptionStyleModel",
          "model_module_version": "1.5.0",
          "state": {
            "_model_module": "@jupyter-widgets/controls",
            "_model_module_version": "1.5.0",
            "_model_name": "DescriptionStyleModel",
            "_view_count": null,
            "_view_module": "@jupyter-widgets/base",
            "_view_module_version": "1.2.0",
            "_view_name": "StyleView",
            "description_width": "initial"
          }
        },
        "4362cd2b640b41b4a07225068152d0eb": {
          "model_module": "@jupyter-widgets/controls",
          "model_name": "TextareaModel",
          "model_module_version": "1.5.0",
          "state": {
            "_dom_classes": [],
            "_model_module": "@jupyter-widgets/controls",
            "_model_module_version": "1.5.0",
            "_model_name": "TextareaModel",
            "_view_count": null,
            "_view_module": "@jupyter-widgets/controls",
            "_view_module_version": "1.5.0",
            "_view_name": "TextareaView",
            "continuous_update": true,
            "description": "Feature Selection 2:",
            "description_tooltip": null,
            "disabled": false,
            "layout": "IPY_MODEL_04ff513b7a174debb4e3b5b884a8c50b",
            "placeholder": "<student to fill this section>",
            "rows": null,
            "style": "IPY_MODEL_0384c11922eb4d79b3feeeb52c27d136",
            "value": ""
          }
        },
        "04ff513b7a174debb4e3b5b884a8c50b": {
          "model_module": "@jupyter-widgets/base",
          "model_name": "LayoutModel",
          "model_module_version": "1.2.0",
          "state": {
            "_model_module": "@jupyter-widgets/base",
            "_model_module_version": "1.2.0",
            "_model_name": "LayoutModel",
            "_view_count": null,
            "_view_module": "@jupyter-widgets/base",
            "_view_module_version": "1.2.0",
            "_view_name": "LayoutView",
            "align_content": null,
            "align_items": null,
            "align_self": null,
            "border": null,
            "bottom": null,
            "display": null,
            "flex": null,
            "flex_flow": null,
            "grid_area": null,
            "grid_auto_columns": null,
            "grid_auto_flow": null,
            "grid_auto_rows": null,
            "grid_column": null,
            "grid_gap": null,
            "grid_row": null,
            "grid_template_areas": null,
            "grid_template_columns": null,
            "grid_template_rows": null,
            "height": "100%",
            "justify_content": null,
            "justify_items": null,
            "left": null,
            "margin": null,
            "max_height": null,
            "max_width": null,
            "min_height": null,
            "min_width": null,
            "object_fit": null,
            "object_position": null,
            "order": null,
            "overflow": null,
            "overflow_x": null,
            "overflow_y": null,
            "padding": null,
            "right": null,
            "top": null,
            "visibility": null,
            "width": "auto"
          }
        },
        "0384c11922eb4d79b3feeeb52c27d136": {
          "model_module": "@jupyter-widgets/controls",
          "model_name": "DescriptionStyleModel",
          "model_module_version": "1.5.0",
          "state": {
            "_model_module": "@jupyter-widgets/controls",
            "_model_module_version": "1.5.0",
            "_model_name": "DescriptionStyleModel",
            "_view_count": null,
            "_view_module": "@jupyter-widgets/base",
            "_view_module_version": "1.2.0",
            "_view_name": "StyleView",
            "description_width": "initial"
          }
        },
        "6167408d097c4b3f8ab16ede73a77cf3": {
          "model_module": "@jupyter-widgets/controls",
          "model_name": "TextareaModel",
          "model_module_version": "1.5.0",
          "state": {
            "_dom_classes": [],
            "_model_module": "@jupyter-widgets/controls",
            "_model_module_version": "1.5.0",
            "_model_name": "TextareaModel",
            "_view_count": null,
            "_view_module": "@jupyter-widgets/controls",
            "_view_module_version": "1.5.0",
            "_view_name": "TextareaView",
            "continuous_update": true,
            "description": "Feature Selection Explanation:",
            "description_tooltip": null,
            "disabled": false,
            "layout": "IPY_MODEL_ef19429720c54108a192ce2d588b68c0",
            "placeholder": "<student to fill this section>",
            "rows": null,
            "style": "IPY_MODEL_97ee63190d794c4f81de2daf8c3edc76",
            "value": ""
          }
        },
        "ef19429720c54108a192ce2d588b68c0": {
          "model_module": "@jupyter-widgets/base",
          "model_name": "LayoutModel",
          "model_module_version": "1.2.0",
          "state": {
            "_model_module": "@jupyter-widgets/base",
            "_model_module_version": "1.2.0",
            "_model_name": "LayoutModel",
            "_view_count": null,
            "_view_module": "@jupyter-widgets/base",
            "_view_module_version": "1.2.0",
            "_view_name": "LayoutView",
            "align_content": null,
            "align_items": null,
            "align_self": null,
            "border": null,
            "bottom": null,
            "display": null,
            "flex": null,
            "flex_flow": null,
            "grid_area": null,
            "grid_auto_columns": null,
            "grid_auto_flow": null,
            "grid_auto_rows": null,
            "grid_column": null,
            "grid_gap": null,
            "grid_row": null,
            "grid_template_areas": null,
            "grid_template_columns": null,
            "grid_template_rows": null,
            "height": "100%",
            "justify_content": null,
            "justify_items": null,
            "left": null,
            "margin": null,
            "max_height": null,
            "max_width": null,
            "min_height": null,
            "min_width": null,
            "object_fit": null,
            "object_position": null,
            "order": null,
            "overflow": null,
            "overflow_x": null,
            "overflow_y": null,
            "padding": null,
            "right": null,
            "top": null,
            "visibility": null,
            "width": "auto"
          }
        },
        "97ee63190d794c4f81de2daf8c3edc76": {
          "model_module": "@jupyter-widgets/controls",
          "model_name": "DescriptionStyleModel",
          "model_module_version": "1.5.0",
          "state": {
            "_model_module": "@jupyter-widgets/controls",
            "_model_module_version": "1.5.0",
            "_model_name": "DescriptionStyleModel",
            "_view_count": null,
            "_view_module": "@jupyter-widgets/base",
            "_view_module_version": "1.2.0",
            "_view_name": "StyleView",
            "description_width": "initial"
          }
        },
        "59ed4d017a7d47cebaab864a481ae0e2": {
          "model_module": "@jupyter-widgets/controls",
          "model_name": "TextareaModel",
          "model_module_version": "1.5.0",
          "state": {
            "_dom_classes": [],
            "_model_module": "@jupyter-widgets/controls",
            "_model_module_version": "1.5.0",
            "_model_name": "TextareaModel",
            "_view_count": null,
            "_view_module": "@jupyter-widgets/controls",
            "_view_module_version": "1.5.0",
            "_view_name": "TextareaView",
            "continuous_update": true,
            "description": "Data Cleaning 1 Explanation:",
            "description_tooltip": null,
            "disabled": false,
            "layout": "IPY_MODEL_a8f55e98b10242b387dd252bd09b024b",
            "placeholder": "<student to fill this section>",
            "rows": null,
            "style": "IPY_MODEL_295a67cea72a46dd946309652a123b7b",
            "value": ""
          }
        },
        "a8f55e98b10242b387dd252bd09b024b": {
          "model_module": "@jupyter-widgets/base",
          "model_name": "LayoutModel",
          "model_module_version": "1.2.0",
          "state": {
            "_model_module": "@jupyter-widgets/base",
            "_model_module_version": "1.2.0",
            "_model_name": "LayoutModel",
            "_view_count": null,
            "_view_module": "@jupyter-widgets/base",
            "_view_module_version": "1.2.0",
            "_view_name": "LayoutView",
            "align_content": null,
            "align_items": null,
            "align_self": null,
            "border": null,
            "bottom": null,
            "display": null,
            "flex": null,
            "flex_flow": null,
            "grid_area": null,
            "grid_auto_columns": null,
            "grid_auto_flow": null,
            "grid_auto_rows": null,
            "grid_column": null,
            "grid_gap": null,
            "grid_row": null,
            "grid_template_areas": null,
            "grid_template_columns": null,
            "grid_template_rows": null,
            "height": "100%",
            "justify_content": null,
            "justify_items": null,
            "left": null,
            "margin": null,
            "max_height": null,
            "max_width": null,
            "min_height": null,
            "min_width": null,
            "object_fit": null,
            "object_position": null,
            "order": null,
            "overflow": null,
            "overflow_x": null,
            "overflow_y": null,
            "padding": null,
            "right": null,
            "top": null,
            "visibility": null,
            "width": "auto"
          }
        },
        "295a67cea72a46dd946309652a123b7b": {
          "model_module": "@jupyter-widgets/controls",
          "model_name": "DescriptionStyleModel",
          "model_module_version": "1.5.0",
          "state": {
            "_model_module": "@jupyter-widgets/controls",
            "_model_module_version": "1.5.0",
            "_model_name": "DescriptionStyleModel",
            "_view_count": null,
            "_view_module": "@jupyter-widgets/base",
            "_view_module_version": "1.2.0",
            "_view_name": "StyleView",
            "description_width": "initial"
          }
        },
        "d9e54a4b1a8b4853bde3c83c98f8034e": {
          "model_module": "@jupyter-widgets/controls",
          "model_name": "TextareaModel",
          "model_module_version": "1.5.0",
          "state": {
            "_dom_classes": [],
            "_model_module": "@jupyter-widgets/controls",
            "_model_module_version": "1.5.0",
            "_model_name": "TextareaModel",
            "_view_count": null,
            "_view_module": "@jupyter-widgets/controls",
            "_view_module_version": "1.5.0",
            "_view_name": "TextareaView",
            "continuous_update": true,
            "description": "Data Cleaning 1 Explanation:",
            "description_tooltip": null,
            "disabled": false,
            "layout": "IPY_MODEL_423e2679cd194389a44f61208f41962c",
            "placeholder": "<student to fill this section>",
            "rows": null,
            "style": "IPY_MODEL_646eab76215e470c9a712d84a4ea185b",
            "value": ""
          }
        },
        "423e2679cd194389a44f61208f41962c": {
          "model_module": "@jupyter-widgets/base",
          "model_name": "LayoutModel",
          "model_module_version": "1.2.0",
          "state": {
            "_model_module": "@jupyter-widgets/base",
            "_model_module_version": "1.2.0",
            "_model_name": "LayoutModel",
            "_view_count": null,
            "_view_module": "@jupyter-widgets/base",
            "_view_module_version": "1.2.0",
            "_view_name": "LayoutView",
            "align_content": null,
            "align_items": null,
            "align_self": null,
            "border": null,
            "bottom": null,
            "display": null,
            "flex": null,
            "flex_flow": null,
            "grid_area": null,
            "grid_auto_columns": null,
            "grid_auto_flow": null,
            "grid_auto_rows": null,
            "grid_column": null,
            "grid_gap": null,
            "grid_row": null,
            "grid_template_areas": null,
            "grid_template_columns": null,
            "grid_template_rows": null,
            "height": "100%",
            "justify_content": null,
            "justify_items": null,
            "left": null,
            "margin": null,
            "max_height": null,
            "max_width": null,
            "min_height": null,
            "min_width": null,
            "object_fit": null,
            "object_position": null,
            "order": null,
            "overflow": null,
            "overflow_x": null,
            "overflow_y": null,
            "padding": null,
            "right": null,
            "top": null,
            "visibility": null,
            "width": "auto"
          }
        },
        "646eab76215e470c9a712d84a4ea185b": {
          "model_module": "@jupyter-widgets/controls",
          "model_name": "DescriptionStyleModel",
          "model_module_version": "1.5.0",
          "state": {
            "_model_module": "@jupyter-widgets/controls",
            "_model_module_version": "1.5.0",
            "_model_name": "DescriptionStyleModel",
            "_view_count": null,
            "_view_module": "@jupyter-widgets/base",
            "_view_module_version": "1.2.0",
            "_view_name": "StyleView",
            "description_width": "initial"
          }
        },
        "a46246b0324c451f80ed9722fad6d3a7": {
          "model_module": "@jupyter-widgets/controls",
          "model_name": "TextareaModel",
          "model_module_version": "1.5.0",
          "state": {
            "_dom_classes": [],
            "_model_module": "@jupyter-widgets/controls",
            "_model_module_version": "1.5.0",
            "_model_name": "TextareaModel",
            "_view_count": null,
            "_view_module": "@jupyter-widgets/controls",
            "_view_module_version": "1.5.0",
            "_view_name": "TextareaView",
            "continuous_update": true,
            "description": "Data Cleaning 3 Explanation:",
            "description_tooltip": null,
            "disabled": false,
            "layout": "IPY_MODEL_bb7cfa7a684d4d858df2722c2f9861f9",
            "placeholder": "<student to fill this section>",
            "rows": null,
            "style": "IPY_MODEL_21cbf7bcc4f3406d9c100136d03738f4",
            "value": ""
          }
        },
        "bb7cfa7a684d4d858df2722c2f9861f9": {
          "model_module": "@jupyter-widgets/base",
          "model_name": "LayoutModel",
          "model_module_version": "1.2.0",
          "state": {
            "_model_module": "@jupyter-widgets/base",
            "_model_module_version": "1.2.0",
            "_model_name": "LayoutModel",
            "_view_count": null,
            "_view_module": "@jupyter-widgets/base",
            "_view_module_version": "1.2.0",
            "_view_name": "LayoutView",
            "align_content": null,
            "align_items": null,
            "align_self": null,
            "border": null,
            "bottom": null,
            "display": null,
            "flex": null,
            "flex_flow": null,
            "grid_area": null,
            "grid_auto_columns": null,
            "grid_auto_flow": null,
            "grid_auto_rows": null,
            "grid_column": null,
            "grid_gap": null,
            "grid_row": null,
            "grid_template_areas": null,
            "grid_template_columns": null,
            "grid_template_rows": null,
            "height": "100%",
            "justify_content": null,
            "justify_items": null,
            "left": null,
            "margin": null,
            "max_height": null,
            "max_width": null,
            "min_height": null,
            "min_width": null,
            "object_fit": null,
            "object_position": null,
            "order": null,
            "overflow": null,
            "overflow_x": null,
            "overflow_y": null,
            "padding": null,
            "right": null,
            "top": null,
            "visibility": null,
            "width": "auto"
          }
        },
        "21cbf7bcc4f3406d9c100136d03738f4": {
          "model_module": "@jupyter-widgets/controls",
          "model_name": "DescriptionStyleModel",
          "model_module_version": "1.5.0",
          "state": {
            "_model_module": "@jupyter-widgets/controls",
            "_model_module_version": "1.5.0",
            "_model_name": "DescriptionStyleModel",
            "_view_count": null,
            "_view_module": "@jupyter-widgets/base",
            "_view_module_version": "1.2.0",
            "_view_name": "StyleView",
            "description_width": "initial"
          }
        },
        "2de107aa221e4eb9abb47bca6dfc18c1": {
          "model_module": "@jupyter-widgets/controls",
          "model_name": "TextareaModel",
          "model_module_version": "1.5.0",
          "state": {
            "_dom_classes": [],
            "_model_module": "@jupyter-widgets/controls",
            "_model_module_version": "1.5.0",
            "_model_name": "TextareaModel",
            "_view_count": null,
            "_view_module": "@jupyter-widgets/controls",
            "_view_module_version": "1.5.0",
            "_view_name": "TextareaView",
            "continuous_update": true,
            "description": "Feature Engineering 1 Explanation:",
            "description_tooltip": null,
            "disabled": false,
            "layout": "IPY_MODEL_97be522d85c54bdb894e3c0998bea587",
            "placeholder": "<student to fill this section>",
            "rows": null,
            "style": "IPY_MODEL_1fea3eb1c88e4938a75e891d27b2a643",
            "value": ""
          }
        },
        "97be522d85c54bdb894e3c0998bea587": {
          "model_module": "@jupyter-widgets/base",
          "model_name": "LayoutModel",
          "model_module_version": "1.2.0",
          "state": {
            "_model_module": "@jupyter-widgets/base",
            "_model_module_version": "1.2.0",
            "_model_name": "LayoutModel",
            "_view_count": null,
            "_view_module": "@jupyter-widgets/base",
            "_view_module_version": "1.2.0",
            "_view_name": "LayoutView",
            "align_content": null,
            "align_items": null,
            "align_self": null,
            "border": null,
            "bottom": null,
            "display": null,
            "flex": null,
            "flex_flow": null,
            "grid_area": null,
            "grid_auto_columns": null,
            "grid_auto_flow": null,
            "grid_auto_rows": null,
            "grid_column": null,
            "grid_gap": null,
            "grid_row": null,
            "grid_template_areas": null,
            "grid_template_columns": null,
            "grid_template_rows": null,
            "height": "100%",
            "justify_content": null,
            "justify_items": null,
            "left": null,
            "margin": null,
            "max_height": null,
            "max_width": null,
            "min_height": null,
            "min_width": null,
            "object_fit": null,
            "object_position": null,
            "order": null,
            "overflow": null,
            "overflow_x": null,
            "overflow_y": null,
            "padding": null,
            "right": null,
            "top": null,
            "visibility": null,
            "width": "auto"
          }
        },
        "1fea3eb1c88e4938a75e891d27b2a643": {
          "model_module": "@jupyter-widgets/controls",
          "model_name": "DescriptionStyleModel",
          "model_module_version": "1.5.0",
          "state": {
            "_model_module": "@jupyter-widgets/controls",
            "_model_module_version": "1.5.0",
            "_model_name": "DescriptionStyleModel",
            "_view_count": null,
            "_view_module": "@jupyter-widgets/base",
            "_view_module_version": "1.2.0",
            "_view_name": "StyleView",
            "description_width": "initial"
          }
        },
        "c0d2de968f104d3e848fbafea795e2bc": {
          "model_module": "@jupyter-widgets/controls",
          "model_name": "TextareaModel",
          "model_module_version": "1.5.0",
          "state": {
            "_dom_classes": [],
            "_model_module": "@jupyter-widgets/controls",
            "_model_module_version": "1.5.0",
            "_model_name": "TextareaModel",
            "_view_count": null,
            "_view_module": "@jupyter-widgets/controls",
            "_view_module_version": "1.5.0",
            "_view_name": "TextareaView",
            "continuous_update": true,
            "description": "Feature Engineering 2 Explanation:",
            "description_tooltip": null,
            "disabled": false,
            "layout": "IPY_MODEL_49be9d15743b4bce8bfc591be6bfbc08",
            "placeholder": "<student to fill this section>",
            "rows": null,
            "style": "IPY_MODEL_4fc252abfb2844f49cb729a601587be8",
            "value": ""
          }
        },
        "49be9d15743b4bce8bfc591be6bfbc08": {
          "model_module": "@jupyter-widgets/base",
          "model_name": "LayoutModel",
          "model_module_version": "1.2.0",
          "state": {
            "_model_module": "@jupyter-widgets/base",
            "_model_module_version": "1.2.0",
            "_model_name": "LayoutModel",
            "_view_count": null,
            "_view_module": "@jupyter-widgets/base",
            "_view_module_version": "1.2.0",
            "_view_name": "LayoutView",
            "align_content": null,
            "align_items": null,
            "align_self": null,
            "border": null,
            "bottom": null,
            "display": null,
            "flex": null,
            "flex_flow": null,
            "grid_area": null,
            "grid_auto_columns": null,
            "grid_auto_flow": null,
            "grid_auto_rows": null,
            "grid_column": null,
            "grid_gap": null,
            "grid_row": null,
            "grid_template_areas": null,
            "grid_template_columns": null,
            "grid_template_rows": null,
            "height": "100%",
            "justify_content": null,
            "justify_items": null,
            "left": null,
            "margin": null,
            "max_height": null,
            "max_width": null,
            "min_height": null,
            "min_width": null,
            "object_fit": null,
            "object_position": null,
            "order": null,
            "overflow": null,
            "overflow_x": null,
            "overflow_y": null,
            "padding": null,
            "right": null,
            "top": null,
            "visibility": null,
            "width": "auto"
          }
        },
        "4fc252abfb2844f49cb729a601587be8": {
          "model_module": "@jupyter-widgets/controls",
          "model_name": "DescriptionStyleModel",
          "model_module_version": "1.5.0",
          "state": {
            "_model_module": "@jupyter-widgets/controls",
            "_model_module_version": "1.5.0",
            "_model_name": "DescriptionStyleModel",
            "_view_count": null,
            "_view_module": "@jupyter-widgets/base",
            "_view_module_version": "1.2.0",
            "_view_name": "StyleView",
            "description_width": "initial"
          }
        },
        "ce155f59cf294b9f86ae46615556409d": {
          "model_module": "@jupyter-widgets/controls",
          "model_name": "TextareaModel",
          "model_module_version": "1.5.0",
          "state": {
            "_dom_classes": [],
            "_model_module": "@jupyter-widgets/controls",
            "_model_module_version": "1.5.0",
            "_model_name": "TextareaModel",
            "_view_count": null,
            "_view_module": "@jupyter-widgets/controls",
            "_view_module_version": "1.5.0",
            "_view_name": "TextareaView",
            "continuous_update": true,
            "description": "Feature Engineering 3 Explanation:",
            "description_tooltip": null,
            "disabled": false,
            "layout": "IPY_MODEL_69c079fc24d040fd91cb2b74a809ee19",
            "placeholder": "<student to fill this section>",
            "rows": null,
            "style": "IPY_MODEL_21e1f6de349b49d7bc1f01d5404f5421",
            "value": ""
          }
        },
        "69c079fc24d040fd91cb2b74a809ee19": {
          "model_module": "@jupyter-widgets/base",
          "model_name": "LayoutModel",
          "model_module_version": "1.2.0",
          "state": {
            "_model_module": "@jupyter-widgets/base",
            "_model_module_version": "1.2.0",
            "_model_name": "LayoutModel",
            "_view_count": null,
            "_view_module": "@jupyter-widgets/base",
            "_view_module_version": "1.2.0",
            "_view_name": "LayoutView",
            "align_content": null,
            "align_items": null,
            "align_self": null,
            "border": null,
            "bottom": null,
            "display": null,
            "flex": null,
            "flex_flow": null,
            "grid_area": null,
            "grid_auto_columns": null,
            "grid_auto_flow": null,
            "grid_auto_rows": null,
            "grid_column": null,
            "grid_gap": null,
            "grid_row": null,
            "grid_template_areas": null,
            "grid_template_columns": null,
            "grid_template_rows": null,
            "height": "100%",
            "justify_content": null,
            "justify_items": null,
            "left": null,
            "margin": null,
            "max_height": null,
            "max_width": null,
            "min_height": null,
            "min_width": null,
            "object_fit": null,
            "object_position": null,
            "order": null,
            "overflow": null,
            "overflow_x": null,
            "overflow_y": null,
            "padding": null,
            "right": null,
            "top": null,
            "visibility": null,
            "width": "auto"
          }
        },
        "21e1f6de349b49d7bc1f01d5404f5421": {
          "model_module": "@jupyter-widgets/controls",
          "model_name": "DescriptionStyleModel",
          "model_module_version": "1.5.0",
          "state": {
            "_model_module": "@jupyter-widgets/controls",
            "_model_module_version": "1.5.0",
            "_model_name": "DescriptionStyleModel",
            "_view_count": null,
            "_view_module": "@jupyter-widgets/base",
            "_view_module_version": "1.2.0",
            "_view_name": "StyleView",
            "description_width": "initial"
          }
        },
        "f122295b72b24b9c868a99e5fc6ac922": {
          "model_module": "@jupyter-widgets/controls",
          "model_name": "TextareaModel",
          "model_module_version": "1.5.0",
          "state": {
            "_dom_classes": [],
            "_model_module": "@jupyter-widgets/controls",
            "_model_module_version": "1.5.0",
            "_model_name": "TextareaModel",
            "_view_count": null,
            "_view_module": "@jupyter-widgets/controls",
            "_view_module_version": "1.5.0",
            "_view_name": "TextareaView",
            "continuous_update": true,
            "description": "Data Preparation 1 Explanation:",
            "description_tooltip": null,
            "disabled": false,
            "layout": "IPY_MODEL_1c18c5b3609f4061bb944955920286f9",
            "placeholder": "<student to fill this section>",
            "rows": null,
            "style": "IPY_MODEL_9f2b629fe73e427a8547a749aef6a334",
            "value": ""
          }
        },
        "1c18c5b3609f4061bb944955920286f9": {
          "model_module": "@jupyter-widgets/base",
          "model_name": "LayoutModel",
          "model_module_version": "1.2.0",
          "state": {
            "_model_module": "@jupyter-widgets/base",
            "_model_module_version": "1.2.0",
            "_model_name": "LayoutModel",
            "_view_count": null,
            "_view_module": "@jupyter-widgets/base",
            "_view_module_version": "1.2.0",
            "_view_name": "LayoutView",
            "align_content": null,
            "align_items": null,
            "align_self": null,
            "border": null,
            "bottom": null,
            "display": null,
            "flex": null,
            "flex_flow": null,
            "grid_area": null,
            "grid_auto_columns": null,
            "grid_auto_flow": null,
            "grid_auto_rows": null,
            "grid_column": null,
            "grid_gap": null,
            "grid_row": null,
            "grid_template_areas": null,
            "grid_template_columns": null,
            "grid_template_rows": null,
            "height": "100%",
            "justify_content": null,
            "justify_items": null,
            "left": null,
            "margin": null,
            "max_height": null,
            "max_width": null,
            "min_height": null,
            "min_width": null,
            "object_fit": null,
            "object_position": null,
            "order": null,
            "overflow": null,
            "overflow_x": null,
            "overflow_y": null,
            "padding": null,
            "right": null,
            "top": null,
            "visibility": null,
            "width": "auto"
          }
        },
        "9f2b629fe73e427a8547a749aef6a334": {
          "model_module": "@jupyter-widgets/controls",
          "model_name": "DescriptionStyleModel",
          "model_module_version": "1.5.0",
          "state": {
            "_model_module": "@jupyter-widgets/controls",
            "_model_module_version": "1.5.0",
            "_model_name": "DescriptionStyleModel",
            "_view_count": null,
            "_view_module": "@jupyter-widgets/base",
            "_view_module_version": "1.2.0",
            "_view_name": "StyleView",
            "description_width": "initial"
          }
        },
        "a9f7d19bfb804a4fa34a868d19de4489": {
          "model_module": "@jupyter-widgets/controls",
          "model_name": "TextareaModel",
          "model_module_version": "1.5.0",
          "state": {
            "_dom_classes": [],
            "_model_module": "@jupyter-widgets/controls",
            "_model_module_version": "1.5.0",
            "_model_name": "TextareaModel",
            "_view_count": null,
            "_view_module": "@jupyter-widgets/controls",
            "_view_module_version": "1.5.0",
            "_view_name": "TextareaView",
            "continuous_update": true,
            "description": "Data Preparation 2 Explanation:",
            "description_tooltip": null,
            "disabled": false,
            "layout": "IPY_MODEL_62cb05c11ee14bffb67609633571174d",
            "placeholder": "<student to fill this section>",
            "rows": null,
            "style": "IPY_MODEL_2e16f2835c364849bad0bd5a7c279a26",
            "value": ""
          }
        },
        "62cb05c11ee14bffb67609633571174d": {
          "model_module": "@jupyter-widgets/base",
          "model_name": "LayoutModel",
          "model_module_version": "1.2.0",
          "state": {
            "_model_module": "@jupyter-widgets/base",
            "_model_module_version": "1.2.0",
            "_model_name": "LayoutModel",
            "_view_count": null,
            "_view_module": "@jupyter-widgets/base",
            "_view_module_version": "1.2.0",
            "_view_name": "LayoutView",
            "align_content": null,
            "align_items": null,
            "align_self": null,
            "border": null,
            "bottom": null,
            "display": null,
            "flex": null,
            "flex_flow": null,
            "grid_area": null,
            "grid_auto_columns": null,
            "grid_auto_flow": null,
            "grid_auto_rows": null,
            "grid_column": null,
            "grid_gap": null,
            "grid_row": null,
            "grid_template_areas": null,
            "grid_template_columns": null,
            "grid_template_rows": null,
            "height": "100%",
            "justify_content": null,
            "justify_items": null,
            "left": null,
            "margin": null,
            "max_height": null,
            "max_width": null,
            "min_height": null,
            "min_width": null,
            "object_fit": null,
            "object_position": null,
            "order": null,
            "overflow": null,
            "overflow_x": null,
            "overflow_y": null,
            "padding": null,
            "right": null,
            "top": null,
            "visibility": null,
            "width": "auto"
          }
        },
        "2e16f2835c364849bad0bd5a7c279a26": {
          "model_module": "@jupyter-widgets/controls",
          "model_name": "DescriptionStyleModel",
          "model_module_version": "1.5.0",
          "state": {
            "_model_module": "@jupyter-widgets/controls",
            "_model_module_version": "1.5.0",
            "_model_name": "DescriptionStyleModel",
            "_view_count": null,
            "_view_module": "@jupyter-widgets/base",
            "_view_module_version": "1.2.0",
            "_view_name": "StyleView",
            "description_width": "initial"
          }
        },
        "f7b35e817ed74138b5722d69f4e5f448": {
          "model_module": "@jupyter-widgets/controls",
          "model_name": "TextareaModel",
          "model_module_version": "1.5.0",
          "state": {
            "_dom_classes": [],
            "_model_module": "@jupyter-widgets/controls",
            "_model_module_version": "1.5.0",
            "_model_name": "TextareaModel",
            "_view_count": null,
            "_view_module": "@jupyter-widgets/controls",
            "_view_module_version": "1.5.0",
            "_view_name": "TextareaView",
            "continuous_update": true,
            "description": "Data Preparation 3 Explanation:",
            "description_tooltip": null,
            "disabled": false,
            "layout": "IPY_MODEL_60c0e18c2a6d4bdc9ad27005a1215a9d",
            "placeholder": "<student to fill this section>",
            "rows": null,
            "style": "IPY_MODEL_f937315ee05e4819ab6b7f73ba3fe615",
            "value": ""
          }
        },
        "60c0e18c2a6d4bdc9ad27005a1215a9d": {
          "model_module": "@jupyter-widgets/base",
          "model_name": "LayoutModel",
          "model_module_version": "1.2.0",
          "state": {
            "_model_module": "@jupyter-widgets/base",
            "_model_module_version": "1.2.0",
            "_model_name": "LayoutModel",
            "_view_count": null,
            "_view_module": "@jupyter-widgets/base",
            "_view_module_version": "1.2.0",
            "_view_name": "LayoutView",
            "align_content": null,
            "align_items": null,
            "align_self": null,
            "border": null,
            "bottom": null,
            "display": null,
            "flex": null,
            "flex_flow": null,
            "grid_area": null,
            "grid_auto_columns": null,
            "grid_auto_flow": null,
            "grid_auto_rows": null,
            "grid_column": null,
            "grid_gap": null,
            "grid_row": null,
            "grid_template_areas": null,
            "grid_template_columns": null,
            "grid_template_rows": null,
            "height": "100%",
            "justify_content": null,
            "justify_items": null,
            "left": null,
            "margin": null,
            "max_height": null,
            "max_width": null,
            "min_height": null,
            "min_width": null,
            "object_fit": null,
            "object_position": null,
            "order": null,
            "overflow": null,
            "overflow_x": null,
            "overflow_y": null,
            "padding": null,
            "right": null,
            "top": null,
            "visibility": null,
            "width": "auto"
          }
        },
        "f937315ee05e4819ab6b7f73ba3fe615": {
          "model_module": "@jupyter-widgets/controls",
          "model_name": "DescriptionStyleModel",
          "model_module_version": "1.5.0",
          "state": {
            "_model_module": "@jupyter-widgets/controls",
            "_model_module_version": "1.5.0",
            "_model_name": "DescriptionStyleModel",
            "_view_count": null,
            "_view_module": "@jupyter-widgets/base",
            "_view_module_version": "1.2.0",
            "_view_name": "StyleView",
            "description_width": "initial"
          }
        },
        "62906186a2af4b0898cfeda56b461fa2": {
          "model_module": "@jupyter-widgets/controls",
          "model_name": "TextareaModel",
          "model_module_version": "1.5.0",
          "state": {
            "_dom_classes": [],
            "_model_module": "@jupyter-widgets/controls",
            "_model_module_version": "1.5.0",
            "_model_name": "TextareaModel",
            "_view_count": null,
            "_view_module": "@jupyter-widgets/controls",
            "_view_module_version": "1.5.0",
            "_view_name": "TextareaView",
            "continuous_update": true,
            "description": "Performance Metrics Explanation:",
            "description_tooltip": null,
            "disabled": false,
            "layout": "IPY_MODEL_fd9489b007b046029774d61d1d19dcda",
            "placeholder": "<student to fill this section>",
            "rows": null,
            "style": "IPY_MODEL_219ceb790091443fbb7f384735d54ee2",
            "value": ""
          }
        },
        "fd9489b007b046029774d61d1d19dcda": {
          "model_module": "@jupyter-widgets/base",
          "model_name": "LayoutModel",
          "model_module_version": "1.2.0",
          "state": {
            "_model_module": "@jupyter-widgets/base",
            "_model_module_version": "1.2.0",
            "_model_name": "LayoutModel",
            "_view_count": null,
            "_view_module": "@jupyter-widgets/base",
            "_view_module_version": "1.2.0",
            "_view_name": "LayoutView",
            "align_content": null,
            "align_items": null,
            "align_self": null,
            "border": null,
            "bottom": null,
            "display": null,
            "flex": null,
            "flex_flow": null,
            "grid_area": null,
            "grid_auto_columns": null,
            "grid_auto_flow": null,
            "grid_auto_rows": null,
            "grid_column": null,
            "grid_gap": null,
            "grid_row": null,
            "grid_template_areas": null,
            "grid_template_columns": null,
            "grid_template_rows": null,
            "height": "100%",
            "justify_content": null,
            "justify_items": null,
            "left": null,
            "margin": null,
            "max_height": null,
            "max_width": null,
            "min_height": null,
            "min_width": null,
            "object_fit": null,
            "object_position": null,
            "order": null,
            "overflow": null,
            "overflow_x": null,
            "overflow_y": null,
            "padding": null,
            "right": null,
            "top": null,
            "visibility": null,
            "width": "auto"
          }
        },
        "219ceb790091443fbb7f384735d54ee2": {
          "model_module": "@jupyter-widgets/controls",
          "model_name": "DescriptionStyleModel",
          "model_module_version": "1.5.0",
          "state": {
            "_model_module": "@jupyter-widgets/controls",
            "_model_module_version": "1.5.0",
            "_model_name": "DescriptionStyleModel",
            "_view_count": null,
            "_view_module": "@jupyter-widgets/base",
            "_view_module_version": "1.2.0",
            "_view_name": "StyleView",
            "description_width": "initial"
          }
        },
        "c197e514a7904bd3b78ffca51a7b0888": {
          "model_module": "@jupyter-widgets/controls",
          "model_name": "TextareaModel",
          "model_module_version": "1.5.0",
          "state": {
            "_dom_classes": [],
            "_model_module": "@jupyter-widgets/controls",
            "_model_module_version": "1.5.0",
            "_model_name": "TextareaModel",
            "_view_count": null,
            "_view_module": "@jupyter-widgets/controls",
            "_view_module_version": "1.5.0",
            "_view_name": "TextareaView",
            "continuous_update": true,
            "description": "Model Performance Explanation:",
            "description_tooltip": null,
            "disabled": false,
            "layout": "IPY_MODEL_92e5c0e04f74425daaed3554e6dcf371",
            "placeholder": "<student to fill this section>",
            "rows": null,
            "style": "IPY_MODEL_d99eed93339447a482f9d32c548d5317",
            "value": ""
          }
        },
        "92e5c0e04f74425daaed3554e6dcf371": {
          "model_module": "@jupyter-widgets/base",
          "model_name": "LayoutModel",
          "model_module_version": "1.2.0",
          "state": {
            "_model_module": "@jupyter-widgets/base",
            "_model_module_version": "1.2.0",
            "_model_name": "LayoutModel",
            "_view_count": null,
            "_view_module": "@jupyter-widgets/base",
            "_view_module_version": "1.2.0",
            "_view_name": "LayoutView",
            "align_content": null,
            "align_items": null,
            "align_self": null,
            "border": null,
            "bottom": null,
            "display": null,
            "flex": null,
            "flex_flow": null,
            "grid_area": null,
            "grid_auto_columns": null,
            "grid_auto_flow": null,
            "grid_auto_rows": null,
            "grid_column": null,
            "grid_gap": null,
            "grid_row": null,
            "grid_template_areas": null,
            "grid_template_columns": null,
            "grid_template_rows": null,
            "height": "100%",
            "justify_content": null,
            "justify_items": null,
            "left": null,
            "margin": null,
            "max_height": null,
            "max_width": null,
            "min_height": null,
            "min_width": null,
            "object_fit": null,
            "object_position": null,
            "order": null,
            "overflow": null,
            "overflow_x": null,
            "overflow_y": null,
            "padding": null,
            "right": null,
            "top": null,
            "visibility": null,
            "width": "auto"
          }
        },
        "d99eed93339447a482f9d32c548d5317": {
          "model_module": "@jupyter-widgets/controls",
          "model_name": "DescriptionStyleModel",
          "model_module_version": "1.5.0",
          "state": {
            "_model_module": "@jupyter-widgets/controls",
            "_model_module_version": "1.5.0",
            "_model_name": "DescriptionStyleModel",
            "_view_count": null,
            "_view_module": "@jupyter-widgets/base",
            "_view_module_version": "1.2.0",
            "_view_name": "StyleView",
            "description_width": "initial"
          }
        }
      }
    }
  },
  "nbformat": 4,
  "nbformat_minor": 0
}